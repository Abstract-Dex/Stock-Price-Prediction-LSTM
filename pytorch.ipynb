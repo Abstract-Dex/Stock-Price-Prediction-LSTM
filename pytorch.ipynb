{
 "cells": [
  {
   "cell_type": "markdown",
   "metadata": {},
   "source": [
    "## Imports"
   ]
  },
  {
   "cell_type": "code",
   "execution_count": 1,
   "metadata": {},
   "outputs": [],
   "source": [
    "import pandas as pd\n",
    "import matplotlib.pyplot as plt \n",
    "#change matplotlib plot style\n",
    "plt.style.use('ggplot')\n",
    "import numpy as np\n",
    "import torch\n",
    "import torch.nn as nn"
   ]
  },
  {
   "cell_type": "code",
   "execution_count": 9,
   "metadata": {},
   "outputs": [
    {
     "data": {
      "text/plain": [
       "'mps:0'"
      ]
     },
     "execution_count": 9,
     "metadata": {},
     "output_type": "execute_result"
    }
   ],
   "source": [
    "#gpu check\n",
    "gpu = 'mps:0' if torch.backends.mps.is_available() else 'cpu'\n",
    "gpu"
   ]
  },
  {
   "cell_type": "markdown",
   "metadata": {},
   "source": [
    "## Preparing Data"
   ]
  },
  {
   "cell_type": "code",
   "execution_count": 10,
   "metadata": {},
   "outputs": [
    {
     "data": {
      "text/html": [
       "<div>\n",
       "<style scoped>\n",
       "    .dataframe tbody tr th:only-of-type {\n",
       "        vertical-align: middle;\n",
       "    }\n",
       "\n",
       "    .dataframe tbody tr th {\n",
       "        vertical-align: top;\n",
       "    }\n",
       "\n",
       "    .dataframe thead th {\n",
       "        text-align: right;\n",
       "    }\n",
       "</style>\n",
       "<table border=\"1\" class=\"dataframe\">\n",
       "  <thead>\n",
       "    <tr style=\"text-align: right;\">\n",
       "      <th></th>\n",
       "      <th>Date</th>\n",
       "      <th>Open</th>\n",
       "      <th>High</th>\n",
       "      <th>Low</th>\n",
       "      <th>Close</th>\n",
       "      <th>Adj Close</th>\n",
       "      <th>Volume</th>\n",
       "    </tr>\n",
       "  </thead>\n",
       "  <tbody>\n",
       "    <tr>\n",
       "      <th>0</th>\n",
       "      <td>1997-05-15</td>\n",
       "      <td>0.121875</td>\n",
       "      <td>0.125000</td>\n",
       "      <td>0.096354</td>\n",
       "      <td>0.097917</td>\n",
       "      <td>0.097917</td>\n",
       "      <td>1443120000</td>\n",
       "    </tr>\n",
       "    <tr>\n",
       "      <th>1</th>\n",
       "      <td>1997-05-16</td>\n",
       "      <td>0.098438</td>\n",
       "      <td>0.098958</td>\n",
       "      <td>0.085417</td>\n",
       "      <td>0.086458</td>\n",
       "      <td>0.086458</td>\n",
       "      <td>294000000</td>\n",
       "    </tr>\n",
       "    <tr>\n",
       "      <th>2</th>\n",
       "      <td>1997-05-19</td>\n",
       "      <td>0.088021</td>\n",
       "      <td>0.088542</td>\n",
       "      <td>0.081250</td>\n",
       "      <td>0.085417</td>\n",
       "      <td>0.085417</td>\n",
       "      <td>122136000</td>\n",
       "    </tr>\n",
       "    <tr>\n",
       "      <th>3</th>\n",
       "      <td>1997-05-20</td>\n",
       "      <td>0.086458</td>\n",
       "      <td>0.087500</td>\n",
       "      <td>0.081771</td>\n",
       "      <td>0.081771</td>\n",
       "      <td>0.081771</td>\n",
       "      <td>109344000</td>\n",
       "    </tr>\n",
       "    <tr>\n",
       "      <th>4</th>\n",
       "      <td>1997-05-21</td>\n",
       "      <td>0.081771</td>\n",
       "      <td>0.082292</td>\n",
       "      <td>0.068750</td>\n",
       "      <td>0.071354</td>\n",
       "      <td>0.071354</td>\n",
       "      <td>377064000</td>\n",
       "    </tr>\n",
       "  </tbody>\n",
       "</table>\n",
       "</div>"
      ],
      "text/plain": [
       "         Date      Open      High       Low     Close  Adj Close      Volume\n",
       "0  1997-05-15  0.121875  0.125000  0.096354  0.097917   0.097917  1443120000\n",
       "1  1997-05-16  0.098438  0.098958  0.085417  0.086458   0.086458   294000000\n",
       "2  1997-05-19  0.088021  0.088542  0.081250  0.085417   0.085417   122136000\n",
       "3  1997-05-20  0.086458  0.087500  0.081771  0.081771   0.081771   109344000\n",
       "4  1997-05-21  0.081771  0.082292  0.068750  0.071354   0.071354   377064000"
      ]
     },
     "execution_count": 10,
     "metadata": {},
     "output_type": "execute_result"
    }
   ],
   "source": [
    "df = pd.read_csv('Amazon.csv')\n",
    "df.head()"
   ]
  },
  {
   "cell_type": "code",
   "execution_count": 11,
   "metadata": {},
   "outputs": [
    {
     "name": "stdout",
     "output_type": "stream",
     "text": [
      "<class 'pandas.core.frame.DataFrame'>\n",
      "RangeIndex: 6516 entries, 0 to 6515\n",
      "Data columns (total 7 columns):\n",
      " #   Column     Non-Null Count  Dtype  \n",
      "---  ------     --------------  -----  \n",
      " 0   Date       6516 non-null   object \n",
      " 1   Open       6516 non-null   float64\n",
      " 2   High       6516 non-null   float64\n",
      " 3   Low        6516 non-null   float64\n",
      " 4   Close      6516 non-null   float64\n",
      " 5   Adj Close  6516 non-null   float64\n",
      " 6   Volume     6516 non-null   int64  \n",
      "dtypes: float64(5), int64(1), object(1)\n",
      "memory usage: 356.5+ KB\n"
     ]
    }
   ],
   "source": [
    "df.info()"
   ]
  },
  {
   "cell_type": "code",
   "execution_count": 12,
   "metadata": {},
   "outputs": [
    {
     "data": {
      "text/html": [
       "<div>\n",
       "<style scoped>\n",
       "    .dataframe tbody tr th:only-of-type {\n",
       "        vertical-align: middle;\n",
       "    }\n",
       "\n",
       "    .dataframe tbody tr th {\n",
       "        vertical-align: top;\n",
       "    }\n",
       "\n",
       "    .dataframe thead th {\n",
       "        text-align: right;\n",
       "    }\n",
       "</style>\n",
       "<table border=\"1\" class=\"dataframe\">\n",
       "  <thead>\n",
       "    <tr style=\"text-align: right;\">\n",
       "      <th></th>\n",
       "      <th>Date</th>\n",
       "      <th>Close</th>\n",
       "    </tr>\n",
       "  </thead>\n",
       "  <tbody>\n",
       "    <tr>\n",
       "      <th>0</th>\n",
       "      <td>1997-05-15</td>\n",
       "      <td>0.097917</td>\n",
       "    </tr>\n",
       "    <tr>\n",
       "      <th>1</th>\n",
       "      <td>1997-05-16</td>\n",
       "      <td>0.086458</td>\n",
       "    </tr>\n",
       "    <tr>\n",
       "      <th>2</th>\n",
       "      <td>1997-05-19</td>\n",
       "      <td>0.085417</td>\n",
       "    </tr>\n",
       "    <tr>\n",
       "      <th>3</th>\n",
       "      <td>1997-05-20</td>\n",
       "      <td>0.081771</td>\n",
       "    </tr>\n",
       "    <tr>\n",
       "      <th>4</th>\n",
       "      <td>1997-05-21</td>\n",
       "      <td>0.071354</td>\n",
       "    </tr>\n",
       "  </tbody>\n",
       "</table>\n",
       "</div>"
      ],
      "text/plain": [
       "         Date     Close\n",
       "0  1997-05-15  0.097917\n",
       "1  1997-05-16  0.086458\n",
       "2  1997-05-19  0.085417\n",
       "3  1997-05-20  0.081771\n",
       "4  1997-05-21  0.071354"
      ]
     },
     "execution_count": 12,
     "metadata": {},
     "output_type": "execute_result"
    }
   ],
   "source": [
    "df = df[['Date', 'Close']]\n",
    "df.head()"
   ]
  },
  {
   "cell_type": "code",
   "execution_count": 13,
   "metadata": {},
   "outputs": [
    {
     "data": {
      "image/png": "[encoded data removed]",
      "text/plain": [
       "<Figure size 640x480 with 1 Axes>"
      ]
     },
     "metadata": {},
     "output_type": "display_data"
    }
   ],
   "source": [
    "df['Date'] = pd.to_datetime(df['Date'])\n",
    "plt.plot(df['Date'], df['Close'])\n",
    "plt.show()"
   ]
  },
  {
   "cell_type": "code",
   "execution_count": 14,
   "metadata": {},
   "outputs": [
    {
     "data": {
      "text/html": [
       "<div>\n",
       "<style scoped>\n",
       "    .dataframe tbody tr th:only-of-type {\n",
       "        vertical-align: middle;\n",
       "    }\n",
       "\n",
       "    .dataframe tbody tr th {\n",
       "        vertical-align: top;\n",
       "    }\n",
       "\n",
       "    .dataframe thead th {\n",
       "        text-align: right;\n",
       "    }\n",
       "</style>\n",
       "<table border=\"1\" class=\"dataframe\">\n",
       "  <thead>\n",
       "    <tr style=\"text-align: right;\">\n",
       "      <th></th>\n",
       "      <th>Close</th>\n",
       "      <th>Close(t-1)</th>\n",
       "      <th>Close(t-2)</th>\n",
       "      <th>Close(t-3)</th>\n",
       "      <th>Close(t-4)</th>\n",
       "      <th>Close(t-5)</th>\n",
       "      <th>Close(t-6)</th>\n",
       "      <th>Close(t-7)</th>\n",
       "    </tr>\n",
       "    <tr>\n",
       "      <th>Date</th>\n",
       "      <th></th>\n",
       "      <th></th>\n",
       "      <th></th>\n",
       "      <th></th>\n",
       "      <th></th>\n",
       "      <th></th>\n",
       "      <th></th>\n",
       "      <th></th>\n",
       "    </tr>\n",
       "  </thead>\n",
       "  <tbody>\n",
       "    <tr>\n",
       "      <th>1997-05-27</th>\n",
       "      <td>0.079167</td>\n",
       "      <td>0.075000</td>\n",
       "      <td>0.069792</td>\n",
       "      <td>0.071354</td>\n",
       "      <td>0.081771</td>\n",
       "      <td>0.085417</td>\n",
       "      <td>0.086458</td>\n",
       "      <td>0.097917</td>\n",
       "    </tr>\n",
       "    <tr>\n",
       "      <th>1997-05-28</th>\n",
       "      <td>0.076563</td>\n",
       "      <td>0.079167</td>\n",
       "      <td>0.075000</td>\n",
       "      <td>0.069792</td>\n",
       "      <td>0.071354</td>\n",
       "      <td>0.081771</td>\n",
       "      <td>0.085417</td>\n",
       "      <td>0.086458</td>\n",
       "    </tr>\n",
       "    <tr>\n",
       "      <th>1997-05-29</th>\n",
       "      <td>0.075260</td>\n",
       "      <td>0.076563</td>\n",
       "      <td>0.079167</td>\n",
       "      <td>0.075000</td>\n",
       "      <td>0.069792</td>\n",
       "      <td>0.071354</td>\n",
       "      <td>0.081771</td>\n",
       "      <td>0.085417</td>\n",
       "    </tr>\n",
       "    <tr>\n",
       "      <th>1997-05-30</th>\n",
       "      <td>0.075000</td>\n",
       "      <td>0.075260</td>\n",
       "      <td>0.076563</td>\n",
       "      <td>0.079167</td>\n",
       "      <td>0.075000</td>\n",
       "      <td>0.069792</td>\n",
       "      <td>0.071354</td>\n",
       "      <td>0.081771</td>\n",
       "    </tr>\n",
       "    <tr>\n",
       "      <th>1997-06-02</th>\n",
       "      <td>0.075521</td>\n",
       "      <td>0.075000</td>\n",
       "      <td>0.075260</td>\n",
       "      <td>0.076563</td>\n",
       "      <td>0.079167</td>\n",
       "      <td>0.075000</td>\n",
       "      <td>0.069792</td>\n",
       "      <td>0.071354</td>\n",
       "    </tr>\n",
       "  </tbody>\n",
       "</table>\n",
       "</div>"
      ],
      "text/plain": [
       "               Close  Close(t-1)  Close(t-2)  Close(t-3)  Close(t-4)  \\\n",
       "Date                                                                   \n",
       "1997-05-27  0.079167    0.075000    0.069792    0.071354    0.081771   \n",
       "1997-05-28  0.076563    0.079167    0.075000    0.069792    0.071354   \n",
       "1997-05-29  0.075260    0.076563    0.079167    0.075000    0.069792   \n",
       "1997-05-30  0.075000    0.075260    0.076563    0.079167    0.075000   \n",
       "1997-06-02  0.075521    0.075000    0.075260    0.076563    0.079167   \n",
       "\n",
       "            Close(t-5)  Close(t-6)  Close(t-7)  \n",
       "Date                                            \n",
       "1997-05-27    0.085417    0.086458    0.097917  \n",
       "1997-05-28    0.081771    0.085417    0.086458  \n",
       "1997-05-29    0.071354    0.081771    0.085417  \n",
       "1997-05-30    0.069792    0.071354    0.081771  \n",
       "1997-06-02    0.075000    0.069792    0.071354  "
      ]
     },
     "execution_count": 14,
     "metadata": {},
     "output_type": "execute_result"
    }
   ],
   "source": [
    "#changing the data to a weekly basis\n",
    "\n",
    "from copy import deepcopy as dc\n",
    "\n",
    "def create_data(data, days):\n",
    "  df_train = dc(df)\n",
    "  df_train.set_index('Date', inplace=True)\n",
    "  for i in range(1, days+1):\n",
    "    df_train[f'Close(t-{i})'] = df_train['Close'].shift(i)\n",
    "  df_train.dropna(inplace=True)\n",
    "  return df_train\n",
    "\n",
    "days = 7\n",
    "df_train = create_data(df, days)\n",
    "df_train.head()"
   ]
  },
  {
   "cell_type": "markdown",
   "metadata": {},
   "source": [
    "## Preprocessing and Splitting"
   ]
  },
  {
   "cell_type": "code",
   "execution_count": 15,
   "metadata": {},
   "outputs": [],
   "source": [
    "from sklearn.preprocessing import MinMaxScaler  \n",
    "\n",
    "scaler = MinMaxScaler(feature_range=(-1, 1))\n",
    "df_train_scaled = scaler.fit_transform(df_train)\n",
    "df_train_scaled = pd.DataFrame(df_train_scaled, columns=df_train.columns, index=df_train.index)"
   ]
  },
  {
   "cell_type": "code",
   "execution_count": 16,
   "metadata": {},
   "outputs": [
    {
     "data": {
      "text/html": [
       "<div>\n",
       "<style scoped>\n",
       "    .dataframe tbody tr th:only-of-type {\n",
       "        vertical-align: middle;\n",
       "    }\n",
       "\n",
       "    .dataframe tbody tr th {\n",
       "        vertical-align: top;\n",
       "    }\n",
       "\n",
       "    .dataframe thead th {\n",
       "        text-align: right;\n",
       "    }\n",
       "</style>\n",
       "<table border=\"1\" class=\"dataframe\">\n",
       "  <thead>\n",
       "    <tr style=\"text-align: right;\">\n",
       "      <th></th>\n",
       "      <th>Close</th>\n",
       "      <th>Close(t-1)</th>\n",
       "      <th>Close(t-2)</th>\n",
       "      <th>Close(t-3)</th>\n",
       "      <th>Close(t-4)</th>\n",
       "      <th>Close(t-5)</th>\n",
       "      <th>Close(t-6)</th>\n",
       "      <th>Close(t-7)</th>\n",
       "    </tr>\n",
       "    <tr>\n",
       "      <th>Date</th>\n",
       "      <th></th>\n",
       "      <th></th>\n",
       "      <th></th>\n",
       "      <th></th>\n",
       "      <th></th>\n",
       "      <th></th>\n",
       "      <th></th>\n",
       "      <th></th>\n",
       "    </tr>\n",
       "  </thead>\n",
       "  <tbody>\n",
       "    <tr>\n",
       "      <th>1997-05-27</th>\n",
       "      <td>-0.999911</td>\n",
       "      <td>-0.999955</td>\n",
       "      <td>-1.000000</td>\n",
       "      <td>-0.999983</td>\n",
       "      <td>-0.999872</td>\n",
       "      <td>-0.999832</td>\n",
       "      <td>-0.999821</td>\n",
       "      <td>-0.999698</td>\n",
       "    </tr>\n",
       "    <tr>\n",
       "      <th>1997-05-28</th>\n",
       "      <td>-0.999939</td>\n",
       "      <td>-0.999911</td>\n",
       "      <td>-0.999944</td>\n",
       "      <td>-1.000000</td>\n",
       "      <td>-0.999983</td>\n",
       "      <td>-0.999872</td>\n",
       "      <td>-0.999832</td>\n",
       "      <td>-0.999821</td>\n",
       "    </tr>\n",
       "    <tr>\n",
       "      <th>1997-05-29</th>\n",
       "      <td>-0.999953</td>\n",
       "      <td>-0.999939</td>\n",
       "      <td>-0.999899</td>\n",
       "      <td>-0.999944</td>\n",
       "      <td>-1.000000</td>\n",
       "      <td>-0.999983</td>\n",
       "      <td>-0.999872</td>\n",
       "      <td>-0.999832</td>\n",
       "    </tr>\n",
       "    <tr>\n",
       "      <th>1997-05-30</th>\n",
       "      <td>-0.999955</td>\n",
       "      <td>-0.999953</td>\n",
       "      <td>-0.999927</td>\n",
       "      <td>-0.999899</td>\n",
       "      <td>-0.999944</td>\n",
       "      <td>-1.000000</td>\n",
       "      <td>-0.999983</td>\n",
       "      <td>-0.999872</td>\n",
       "    </tr>\n",
       "    <tr>\n",
       "      <th>1997-06-02</th>\n",
       "      <td>-0.999950</td>\n",
       "      <td>-0.999955</td>\n",
       "      <td>-0.999941</td>\n",
       "      <td>-0.999927</td>\n",
       "      <td>-0.999899</td>\n",
       "      <td>-0.999944</td>\n",
       "      <td>-1.000000</td>\n",
       "      <td>-0.999983</td>\n",
       "    </tr>\n",
       "  </tbody>\n",
       "</table>\n",
       "</div>"
      ],
      "text/plain": [
       "               Close  Close(t-1)  Close(t-2)  Close(t-3)  Close(t-4)  \\\n",
       "Date                                                                   \n",
       "1997-05-27 -0.999911   -0.999955   -1.000000   -0.999983   -0.999872   \n",
       "1997-05-28 -0.999939   -0.999911   -0.999944   -1.000000   -0.999983   \n",
       "1997-05-29 -0.999953   -0.999939   -0.999899   -0.999944   -1.000000   \n",
       "1997-05-30 -0.999955   -0.999953   -0.999927   -0.999899   -0.999944   \n",
       "1997-06-02 -0.999950   -0.999955   -0.999941   -0.999927   -0.999899   \n",
       "\n",
       "            Close(t-5)  Close(t-6)  Close(t-7)  \n",
       "Date                                            \n",
       "1997-05-27   -0.999832   -0.999821   -0.999698  \n",
       "1997-05-28   -0.999872   -0.999832   -0.999821  \n",
       "1997-05-29   -0.999983   -0.999872   -0.999832  \n",
       "1997-05-30   -1.000000   -0.999983   -0.999872  \n",
       "1997-06-02   -0.999944   -1.000000   -0.999983  "
      ]
     },
     "execution_count": 16,
     "metadata": {},
     "output_type": "execute_result"
    }
   ],
   "source": [
    "df_train_scaled.head()"
   ]
  },
  {
   "cell_type": "code",
   "execution_count": 17,
   "metadata": {},
   "outputs": [
    {
     "data": {
      "text/plain": [
       "((6509, 7), (6509,))"
      ]
     },
     "execution_count": 17,
     "metadata": {},
     "output_type": "execute_result"
    }
   ],
   "source": [
    "X = df_train_scaled.drop('Close', axis=1).values\n",
    "y = df_train_scaled['Close'].values\n",
    "\n",
    "X.shape, y.shape"
   ]
  },
  {
   "cell_type": "code",
   "execution_count": 18,
   "metadata": {},
   "outputs": [
    {
     "data": {
      "text/plain": [
       "array([[-0.99969839, -0.99982128, -0.99983244, ..., -0.99998325,\n",
       "        -1.        , -0.99995531],\n",
       "       [-0.99982128, -0.99983244, -0.99987154, ..., -1.        ,\n",
       "        -0.99994415, -0.99991063],\n",
       "       [-0.99983244, -0.99987154, -0.99998325, ..., -0.99994415,\n",
       "        -0.99989946, -0.99993855],\n",
       "       ...,\n",
       "       [ 0.05779984,  0.05158   ,  0.0506149 , ...,  0.07431453,\n",
       "         0.09308121,  0.10690997],\n",
       "       [ 0.05158   ,  0.0506149 ,  0.04203581, ...,  0.09308121,\n",
       "         0.10691495,  0.09747299],\n",
       "       [ 0.0506149 ,  0.04203581,  0.07431453, ...,  0.10691495,\n",
       "         0.09747802,  0.11398769]])"
      ]
     },
     "execution_count": 18,
     "metadata": {},
     "output_type": "execute_result"
    }
   ],
   "source": [
    "X = dc(np.flip(X, axis=1))\n",
    "X"
   ]
  },
  {
   "cell_type": "code",
   "execution_count": 19,
   "metadata": {},
   "outputs": [
    {
     "data": {
      "text/plain": [
       "5858"
      ]
     },
     "execution_count": 19,
     "metadata": {},
     "output_type": "execute_result"
    }
   ],
   "source": [
    "split = int(0.9 * len(X))\n",
    "split"
   ]
  },
  {
   "cell_type": "code",
   "execution_count": 20,
   "metadata": {},
   "outputs": [
    {
     "data": {
      "text/plain": [
       "((5858, 7), (651, 7), (5858,), (651,))"
      ]
     },
     "execution_count": 20,
     "metadata": {},
     "output_type": "execute_result"
    }
   ],
   "source": [
    "X_train = X[:split]\n",
    "X_test = X[split:]\n",
    "\n",
    "y_train = y[:split]\n",
    "y_test = y[split:]\n",
    "\n",
    "X_train.shape, X_test.shape, y_train.shape, y_test.shape"
   ]
  },
  {
   "cell_type": "code",
   "execution_count": 21,
   "metadata": {},
   "outputs": [
    {
     "data": {
      "text/plain": [
       "((5858, 7, 1), (651, 7, 1), (5858, 1), (651, 1))"
      ]
     },
     "execution_count": 21,
     "metadata": {},
     "output_type": "execute_result"
    }
   ],
   "source": [
    "X_train = X_train.reshape(-1, 7, 1)\n",
    "X_test = X_test.reshape(-1, 7, 1)\n",
    "\n",
    "y_train = y_train.reshape(-1, 1)\n",
    "y_test = y_test.reshape(-1, 1)\n",
    "\n",
    "X_train.shape, X_test.shape, y_train.shape, y_test.shape"
   ]
  },
  {
   "cell_type": "code",
   "execution_count": 22,
   "metadata": {},
   "outputs": [
    {
     "data": {
      "text/plain": [
       "(torch.Size([5858, 7, 1]),\n",
       " torch.Size([651, 7, 1]),\n",
       " torch.Size([5858, 1]),\n",
       " torch.Size([651, 1]))"
      ]
     },
     "execution_count": 22,
     "metadata": {},
     "output_type": "execute_result"
    }
   ],
   "source": [
    "X_train = torch.tensor(X_train).float() \n",
    "X_test = torch.tensor(X_test).float() \n",
    "y_train = torch.tensor(y_train).float() \n",
    "y_test = torch.tensor(y_test).float() \n",
    "\n",
    "X_train.shape, X_test.shape, y_train.shape, y_test.shape"
   ]
  },
  {
   "cell_type": "code",
   "execution_count": 23,
   "metadata": {},
   "outputs": [],
   "source": [
    "from torch.utils.data import DataLoader, Dataset \n",
    "\n",
    "class StockDataset(Dataset):\n",
    "  def __init__(self, X, y):\n",
    "    self.X = X\n",
    "    self.y = y\n",
    "\n",
    "  def __len__(self):\n",
    "    return len(self.X)\n",
    "\n",
    "  def __getitem__(self, idx):\n",
    "    return self.X[idx], self.y[idx]\n",
    "  \n",
    "train_data = StockDataset(X_train, y_train)\n",
    "test_data = StockDataset(X_test, y_test)"
   ]
  },
  {
   "cell_type": "code",
   "execution_count": 24,
   "metadata": {},
   "outputs": [],
   "source": [
    "batch_size = 16\n",
    "\n",
    "train_loader = DataLoader(dataset=train_data, batch_size=batch_size, shuffle=True)\n",
    "test_loader = DataLoader(dataset=test_data, batch_size=batch_size, shuffle=False)"
   ]
  },
  {
   "cell_type": "markdown",
   "metadata": {},
   "source": [
    "## LSTM Model"
   ]
  },
  {
   "cell_type": "code",
   "execution_count": 25,
   "metadata": {},
   "outputs": [
    {
     "data": {
      "text/plain": [
       "LSTM(\n",
       "  (lstm): LSTM(1, 4, batch_first=True)\n",
       "  (fc): Linear(in_features=4, out_features=1, bias=True)\n",
       ")"
      ]
     },
     "execution_count": 25,
     "metadata": {},
     "output_type": "execute_result"
    }
   ],
   "source": [
    "class LSTM(nn.Module):\n",
    "    def __init__(self, input_size, hidden_size, num_stacked_layers):\n",
    "        super().__init__()\n",
    "        self.hidden_size = hidden_size\n",
    "        self.num_stacked_layers = num_stacked_layers\n",
    "\n",
    "        self.lstm = nn.LSTM(input_size, hidden_size, num_stacked_layers, \n",
    "                            batch_first=True)\n",
    "        \n",
    "        self.fc = nn.Linear(hidden_size, 1)\n",
    "\n",
    "    def forward(self, x):\n",
    "        batch_size = x.size(0)\n",
    "        h0 = torch.zeros(self.num_stacked_layers, batch_size, self.hidden_size).to(gpu)\n",
    "        c0 = torch.zeros(self.num_stacked_layers, batch_size, self.hidden_size).to(gpu)\n",
    "        \n",
    "        out, _ = self.lstm(x, (h0, c0))\n",
    "        out = self.fc(out[:, -1, :])\n",
    "        return out\n",
    "\n",
    "model = LSTM(1, 4, 1)\n",
    "model.to(gpu)\n",
    "model"
   ]
  },
  {
   "cell_type": "code",
   "execution_count": 26,
   "metadata": {},
   "outputs": [
    {
     "name": "stderr",
     "output_type": "stream",
     "text": [
      "/opt/homebrew/Caskroom/miniforge/base/envs/DL/lib/python3.11/site-packages/tqdm/auto.py:21: TqdmWarning: IProgress not found. Please update jupyter and ipywidgets. See https://ipywidgets.readthedocs.io/en/stable/user_install.html\n",
      "  from .autonotebook import tqdm as notebook_tqdm\n"
     ]
    }
   ],
   "source": [
    "optimizer = torch.optim.Adam(model.parameters(), lr=0.001)\n",
    "loss_function = nn.MSELoss()\n",
    "\n",
    "def train_one_epoch(epoch):\n",
    "    model.train(True)\n",
    "    running_loss = 0.0\n",
    "    print(f'Epoch: {epoch + 1}')\n",
    "    \n",
    "    for batch_index, batch in enumerate(train_loader):\n",
    "        x_batch, y_batch = batch[0].to(gpu), batch[1].to(gpu)\n",
    "        \n",
    "        output = model(x_batch)\n",
    "        loss = loss_function(output, y_batch)\n",
    "        running_loss += loss.item()\n",
    "        \n",
    "        optimizer.zero_grad()\n",
    "        loss.backward()\n",
    "        optimizer.step()\n",
    "\n",
    "        if batch_index % 100 == 99:  # print every 100 batches\n",
    "            avg_loss_across_batches = running_loss / 100\n",
    "            print('Batch {0}, Loss: {1:.3f}'.format(batch_index+1,\n",
    "                                                    avg_loss_across_batches))\n",
    "            running_loss = 0.0\n",
    "    print()"
   ]
  },
  {
   "cell_type": "code",
   "execution_count": 27,
   "metadata": {},
   "outputs": [],
   "source": [
    "def validate_one_epoch():\n",
    "    model.train(False)\n",
    "    running_loss = 0.0\n",
    "    \n",
    "    for batch_index, batch in enumerate(test_loader):\n",
    "        x_batch, y_batch = batch[0].to(gpu), batch[1].to(gpu)\n",
    "        \n",
    "        with torch.no_grad():\n",
    "            output = model(x_batch)\n",
    "            loss = loss_function(output, y_batch)\n",
    "            running_loss += loss.item()\n",
    "\n",
    "    avg_loss_across_batches = running_loss / len(test_loader)\n",
    "    \n",
    "    print('Val Loss: {0:.3f}'.format(avg_loss_across_batches))\n",
    "    print('***************************************************')\n",
    "    print()"
   ]
  },
  {
   "cell_type": "code",
   "execution_count": 28,
   "metadata": {},
   "outputs": [
    {
     "name": "stdout",
     "output_type": "stream",
     "text": [
      "Epoch: 1\n",
      "Batch 100, Loss: 0.798\n",
      "Batch 200, Loss: 0.194\n",
      "Batch 300, Loss: 0.056\n",
      "\n",
      "Val Loss: 0.312\n",
      "***************************************************\n",
      "\n",
      "Epoch: 2\n",
      "Batch 100, Loss: 0.016\n",
      "Batch 200, Loss: 0.006\n",
      "Batch 300, Loss: 0.004\n",
      "\n",
      "Val Loss: 0.113\n",
      "***************************************************\n",
      "\n",
      "Epoch: 3\n",
      "Batch 100, Loss: 0.001\n",
      "Batch 200, Loss: 0.002\n",
      "Batch 300, Loss: 0.001\n",
      "\n",
      "Val Loss: 0.092\n",
      "***************************************************\n",
      "\n",
      "Epoch: 4\n",
      "Batch 100, Loss: 0.001\n",
      "Batch 200, Loss: 0.001\n",
      "Batch 300, Loss: 0.001\n",
      "\n",
      "Val Loss: 0.080\n",
      "***************************************************\n",
      "\n",
      "Epoch: 5\n",
      "Batch 100, Loss: 0.001\n",
      "Batch 200, Loss: 0.001\n",
      "Batch 300, Loss: 0.001\n",
      "\n",
      "Val Loss: 0.068\n",
      "***************************************************\n",
      "\n",
      "Epoch: 6\n",
      "Batch 100, Loss: 0.001\n",
      "Batch 200, Loss: 0.001\n",
      "Batch 300, Loss: 0.001\n",
      "\n",
      "Val Loss: 0.055\n",
      "***************************************************\n",
      "\n",
      "Epoch: 7\n",
      "Batch 100, Loss: 0.001\n",
      "Batch 200, Loss: 0.001\n",
      "Batch 300, Loss: 0.001\n",
      "\n",
      "Val Loss: 0.043\n",
      "***************************************************\n",
      "\n",
      "Epoch: 8\n",
      "Batch 100, Loss: 0.001\n",
      "Batch 200, Loss: 0.000\n",
      "Batch 300, Loss: 0.001\n",
      "\n",
      "Val Loss: 0.033\n",
      "***************************************************\n",
      "\n",
      "Epoch: 9\n",
      "Batch 100, Loss: 0.000\n",
      "Batch 200, Loss: 0.000\n",
      "Batch 300, Loss: 0.000\n",
      "\n",
      "Val Loss: 0.022\n",
      "***************************************************\n",
      "\n",
      "Epoch: 10\n",
      "Batch 100, Loss: 0.000\n",
      "Batch 200, Loss: 0.000\n",
      "Batch 300, Loss: 0.000\n",
      "\n",
      "Val Loss: 0.014\n",
      "***************************************************\n",
      "\n"
     ]
    }
   ],
   "source": [
    "num_epochs = 10\n",
    "\n",
    "for epoch in range(num_epochs):\n",
    "    train_one_epoch(epoch)\n",
    "    validate_one_epoch()"
   ]
  },
  {
   "cell_type": "markdown",
   "metadata": {},
   "source": [
    "## Predictions"
   ]
  },
  {
   "cell_type": "code",
   "execution_count": 29,
   "metadata": {},
   "outputs": [
    {
     "data": {
      "image/png": "[encoded data removed]",
      "text/plain": [
       "<Figure size 640x480 with 1 Axes>"
      ]
     },
     "metadata": {},
     "output_type": "display_data"
    }
   ],
   "source": [
    "with torch.no_grad():\n",
    "    predicted = model(X_train.to(gpu)).to('cpu').numpy()\n",
    "\n",
    "plt.plot(y_train, label='Actual Close')\n",
    "plt.plot(predicted, label='Predicted Close')\n",
    "plt.xlabel('Day')\n",
    "plt.ylabel('Close')\n",
    "plt.legend()\n",
    "plt.show()"
   ]
  },
  {
   "cell_type": "markdown",
   "metadata": {},
   "source": [
    "### The scaled values are inverse transformed to get the actual values"
   ]
  },
  {
   "cell_type": "code",
   "execution_count": 30,
   "metadata": {},
   "outputs": [
    {
     "data": {
      "text/plain": [
       "array([  0.72520195,   0.72635804,   0.72650255, ..., 153.74267592,\n",
       "       154.22812239, 154.8778503 ])"
      ]
     },
     "execution_count": 30,
     "metadata": {},
     "output_type": "execute_result"
    }
   ],
   "source": [
    "train_predictions = predicted.flatten()\n",
    "\n",
    "dummies = np.zeros((X_train.shape[0], days+1))\n",
    "dummies[:, 0] = train_predictions\n",
    "dummies = scaler.inverse_transform(dummies)\n",
    "\n",
    "train_predictions = dc(dummies[:, 0])\n",
    "train_predictions"
   ]
  },
  {
   "cell_type": "code",
   "execution_count": 31,
   "metadata": {},
   "outputs": [
    {
     "data": {
      "text/plain": [
       "array([7.91646265e-02, 7.65634249e-02, 7.52572660e-02, ...,\n",
       "       1.72548002e+02, 1.74955992e+02, 1.76572494e+02])"
      ]
     },
     "execution_count": 31,
     "metadata": {},
     "output_type": "execute_result"
    }
   ],
   "source": [
    "dummies = np.zeros((X_train.shape[0], days+1))\n",
    "dummies[:, 0] = y_train.flatten()\n",
    "dummies = scaler.inverse_transform(dummies)\n",
    "\n",
    "new_y_train = dc(dummies[:, 0])\n",
    "new_y_train"
   ]
  },
  {
   "cell_type": "code",
   "execution_count": 32,
   "metadata": {},
   "outputs": [
    {
     "data": {
      "image/png": "[encoded data removed]",
      "text/plain": [
       "<Figure size 640x480 with 1 Axes>"
      ]
     },
     "metadata": {},
     "output_type": "display_data"
    }
   ],
   "source": [
    "plt.plot(new_y_train, label='Actual Close')\n",
    "plt.plot(train_predictions, label='Predicted Close')\n",
    "plt.xlabel('Day')\n",
    "plt.ylabel('Close')\n",
    "plt.legend()\n",
    "plt.show()"
   ]
  },
  {
   "cell_type": "markdown",
   "metadata": {},
   "source": [
    "### Test Predictions"
   ]
  },
  {
   "cell_type": "code",
   "execution_count": 33,
   "metadata": {},
   "outputs": [
    {
     "data": {
      "text/plain": [
       "array([155.45155421, 154.28698291, 153.02471093, 150.91966074,\n",
       "       151.09021731, 150.19992827, 149.09409522, 148.37544102,\n",
       "       148.64428743, 147.87541003, 146.63987262, 145.28357387,\n",
       "       144.64815256, 146.52094546, 145.83808002, 145.72007551,\n",
       "       146.63169106, 148.05559327, 148.40577169, 148.61826986,\n",
       "       149.53134164, 148.89371376, 149.41796705, 148.53992255,\n",
       "       149.19105111, 149.46107585, 150.63994264, 152.76468526,\n",
       "       153.72933087, 153.42429551, 153.04395315, 152.20457096,\n",
       "       151.11554567, 150.6674887 , 150.09751429, 149.72208531,\n",
       "       149.85248999, 149.95114668, 150.85605358, 149.968199  ,\n",
       "       150.05358289, 148.1077229 , 146.69522041, 146.51096863,\n",
       "       148.74198812, 150.69072165, 151.48425488, 150.0654995 ,\n",
       "       148.10259276, 148.30170696, 148.10086974, 148.20600719,\n",
       "       148.28228132, 148.37318442, 148.07342373, 148.06979983,\n",
       "       147.85001497, 147.72966493, 147.9041233 , 148.77714325,\n",
       "       149.3196105 , 149.27493431, 149.83151364, 149.9202324 ,\n",
       "       149.7761992 , 149.43318519, 149.20542442, 149.31059523,\n",
       "       148.5301347 , 148.09563398, 148.05708284, 148.51865162,\n",
       "       148.84506351, 149.85678086, 150.28673503, 150.12131973,\n",
       "       150.08745409, 150.07281399, 149.82935153, 149.56856995,\n",
       "       150.64780738, 151.56004545, 151.6227911 , 151.3529609 ,\n",
       "       150.47436615, 150.3801782 , 149.45791884, 149.25288523,\n",
       "       149.3853631 , 148.67643561, 148.39430529, 148.78438548,\n",
       "       148.53434776, 148.14057697, 148.13534122, 149.76174252,\n",
       "       151.00601174, 151.43287559, 151.64889761, 152.07595599,\n",
       "       151.32513694, 151.00544481, 150.50693675, 151.68648719,\n",
       "       152.61432135, 152.38999551, 152.46355171, 152.70746438,\n",
       "       152.5371746 , 152.27813272, 151.96170877, 151.55755541,\n",
       "       151.52279491, 151.41716278, 151.77145978, 152.14066922,\n",
       "       151.52649662, 150.49284135, 150.12334845, 149.55697571,\n",
       "       148.09486696, 147.7607793 , 148.23147451, 147.86821782,\n",
       "       146.58644238, 145.55579962, 145.32100227, 144.57933188,\n",
       "       145.65227196, 146.1303039 , 147.07002688, 147.24645282,\n",
       "       147.23739308, 147.35356897, 147.94831593, 146.92528224,\n",
       "       146.97909599, 147.44694544, 148.00425288, 147.6772296 ,\n",
       "       147.00713116, 146.72833571, 146.89819751, 146.72977526,\n",
       "       147.11993327, 148.1196284 , 149.36664334, 149.92982572,\n",
       "       150.79550339, 151.40813083, 152.42795749, 152.96597268,\n",
       "       153.40795463, 152.97419871, 153.20541663, 153.50223707,\n",
       "       153.38462163, 152.9700857 , 153.03133621, 152.54812411,\n",
       "       152.62716062, 153.31551193, 153.71812013, 154.2820473 ,\n",
       "       154.65853788, 154.79865817, 154.14134897, 153.12131667,\n",
       "       152.20684423, 152.11176698, 151.92193484, 150.78624911,\n",
       "       150.57330074, 149.69334981, 149.36046271, 149.88471599,\n",
       "       150.65508297, 150.62117842, 150.60320345, 150.76026489,\n",
       "       150.36283686, 150.61591487, 150.88601742, 151.07861195,\n",
       "       150.80445197, 150.5936935 , 150.44153988, 150.5346829 ,\n",
       "       150.07120214, 150.0501035 , 149.9515024 , 150.62060593,\n",
       "       151.12364386, 152.06108801, 152.47116078, 153.02370491,\n",
       "       153.27248094, 153.68837306, 154.54638052, 154.91848574,\n",
       "       154.80205974, 155.19381293, 155.35906704, 154.96437361,\n",
       "       154.35123482, 154.43332829, 154.5106529 , 154.4780823 ,\n",
       "       154.39810091, 155.04683392, 156.6946729 , 157.58137139,\n",
       "       158.23761899, 158.44882766, 158.54189288, 158.28682505,\n",
       "       158.19544951, 157.77352683, 157.13285309, 156.63497866,\n",
       "       156.58583374, 156.65873408, 157.10785821, 157.45788102,\n",
       "       157.94346644, 157.62154551, 157.50402455, 157.21314574,\n",
       "       154.80640063, 153.61410542, 153.34862723, 153.1187766 ,\n",
       "       153.21776678, 152.97638861, 152.83543461, 152.57067897,\n",
       "       152.15931117, 152.07115377, 151.93491862, 151.9196838 ,\n",
       "       151.33230692, 150.61182965, 150.10779126, 149.99438888,\n",
       "       150.65234837, 151.38937772, 151.67254186, 151.97937249,\n",
       "       152.45934977, 153.37321636, 154.24334053, 154.71269068,\n",
       "       154.7892705 , 154.95461354, 155.2975942 , 155.59094082,\n",
       "       155.37550797, 155.14370089, 154.92834585, 154.76258039,\n",
       "       154.9085367 , 155.08480702, 154.9458984 , 153.92357059,\n",
       "       153.30895334, 153.35370179, 153.7123508 , 153.97087022,\n",
       "       153.91484434, 153.04580956, 152.47753594, 152.03898892,\n",
       "       151.80611468, 150.72261972, 150.51269497, 150.85181829,\n",
       "       151.44413635, 151.58826404, 151.22095548, 151.05036556,\n",
       "       151.3561068 , 151.66197031, 152.88274535, 153.79831273,\n",
       "       154.19705248, 154.11989462, 154.26228261, 153.4081714 ,\n",
       "       152.84321598, 153.0978336 , 153.37626221, 154.00908788,\n",
       "       153.62698915, 152.92721033, 152.53491801, 153.03394853,\n",
       "       154.12839299, 155.00082378, 155.14354526, 155.94855046,\n",
       "       155.53111318, 155.25340712, 155.56351704, 155.87511654,\n",
       "       155.97849763, 156.09631872, 157.30703355, 157.7040614 ,\n",
       "       157.09774799, 156.87144345, 156.76414944, 156.09960913,\n",
       "       156.24725511, 155.86654035, 155.15021501, 154.75121959,\n",
       "       154.13331193, 154.17647631, 155.04521095, 155.44665195,\n",
       "       155.30001754, 154.8939633 , 154.22633267, 153.81482036,\n",
       "       154.3807818 , 153.84394492, 153.79978008, 153.23117297,\n",
       "       153.58629257, 153.871302  , 154.01278959, 153.8217569 ,\n",
       "       153.91579478, 153.68999603, 153.47918754, 153.009226  ,\n",
       "       153.48034363, 153.1637974 , 152.39745451, 151.79726059,\n",
       "       151.35996969, 150.92397385, 151.51824837, 151.77432221,\n",
       "       151.0779672 , 150.93051576, 150.17005336, 149.20466852,\n",
       "       147.62797351, 144.47081509, 143.23246526, 141.28089153,\n",
       "       139.83586012, 139.27456472, 140.32325471, 142.56183325,\n",
       "       144.18351015, 144.81095555, 141.81787848, 145.48038145,\n",
       "       147.36527438, 149.0591902 , 149.78896065, 149.64279313,\n",
       "       148.24924939, 148.01129503, 148.18030643, 148.64115265,\n",
       "       148.05870582, 147.26143752, 146.25044828, 144.31988981,\n",
       "       145.03507574, 146.05521365, 146.50356521, 146.11268465,\n",
       "       146.14399911, 145.08564355, 143.93416719, 140.93014617,\n",
       "       138.74209931, 138.55985124, 140.84989243, 141.65902732,\n",
       "       140.96079922, 142.22736764, 144.54886225, 146.76515827,\n",
       "       148.7615138 , 149.72281898, 150.91104009, 151.15560307,\n",
       "       151.311564  , 151.60735619, 152.58216205, 153.09489891,\n",
       "       152.7557867 , 151.93120579, 151.63852615, 152.45318025,\n",
       "       151.99445723, 150.66390371, 149.77534325, 148.57504433,\n",
       "       147.16236954, 146.34164041, 147.10044649, 146.55373283,\n",
       "       146.54612932, 147.85211038, 147.51346506, 145.91062464,\n",
       "       144.00244317, 143.43593703, 141.23877763, 139.61649212,\n",
       "       140.67581758, 134.66270098, 130.9490077 , 128.6665978 ,\n",
       "       127.95844568, 123.74949861, 120.32986894, 115.49697532,\n",
       "       112.80881966, 109.70548193, 108.59106853, 110.83432145,\n",
       "       111.32722692, 113.57489021, 111.25912185, 109.8173072 ,\n",
       "       109.16073585, 108.81193167, 107.0125977 , 107.15931826,\n",
       "       109.25665516, 112.43139531, 116.49070103, 119.40879346,\n",
       "       122.6546901 , 123.25388911, 124.59461678, 124.64259728,\n",
       "       123.87397278, 121.22601347, 116.74104445, 111.2003711 ,\n",
       "       107.21682816, 107.41239072, 105.97613836, 106.29807041,\n",
       "       107.71153585, 108.70797114, 110.86156181, 113.93342527,\n",
       "       114.21170104, 111.73141363, 110.8251561 , 109.11699342,\n",
       "       109.64065199, 111.81289016, 113.44353508, 115.24378058,\n",
       "       115.96936854, 114.66333606, 112.74635192, 112.09781066,\n",
       "       111.84995311, 113.04758829, 113.85827806, 116.27561556,\n",
       "       119.71455693, 122.50599363, 123.14628107, 122.96426644,\n",
       "       120.14426376, 121.0740655 , 122.25638666, 128.10382672,\n",
       "       131.48641706, 132.83358659, 135.52479088, 138.11566271,\n",
       "       138.86246881, 138.81817056, 138.18690118, 139.41416532,\n",
       "       139.46536119, 140.35661457, 140.69987313, 141.36907671,\n",
       "       140.92581639, 140.7566438 , 139.37996619, 136.98301728,\n",
       "       135.70859245, 135.06487287, 135.89427545, 134.09060893,\n",
       "       132.6214775 , 131.4015862 , 130.00288175, 129.57746857,\n",
       "       129.21719103, 128.38366988, 129.27821922, 129.95584891,\n",
       "       131.65710702, 133.81362542, 131.44911094, 130.68268745,\n",
       "       129.43765676, 127.58713804, 126.93077373, 125.51023697,\n",
       "       123.047277  , 121.13427942, 118.43206449, 117.4092559 ,\n",
       "       116.56972781, 117.64274432, 116.9295482 , 115.68567082,\n",
       "       116.21316449, 118.917825  , 120.45485168, 121.03359958,\n",
       "       118.81598073, 117.08124605, 115.46402538, 114.80161105,\n",
       "       114.22411233, 111.36048951, 112.69133067, 114.83305474,\n",
       "       115.51966358, 115.94791418, 117.95516364, 119.37709548,\n",
       "       120.61442539, 119.12289473, 116.07892748, 110.85035385,\n",
       "       107.15564851, 102.41621194,  97.48013037,  93.38506508,\n",
       "        92.0318358 ,  91.38341127,  90.92264287,  88.95073752,\n",
       "        92.70143818,  97.04526143,  98.3959173 ,  99.14586929,\n",
       "        98.60808476,  97.13751655,  95.9027934 ,  94.44158369,\n",
       "        93.98641787,  94.26407947,  94.166854  ,  94.35965278,\n",
       "        93.76760429,  95.30898854,  95.79660824,  95.38187916,\n",
       "        93.62953496,  91.25835906,  89.97756185,  90.24957084,\n",
       "        89.99075128,  90.54947604,  91.8272274 ,  92.14302606,\n",
       "        90.78105524,  89.61157056,  87.58031279,  86.52520039,\n",
       "        86.7910621 ,  85.6977237 ,  85.73301779,  84.78431009,\n",
       "        83.63951738,  84.09637564,  84.40118867,  85.46660305,\n",
       "        85.7701127 ,  84.94010706,  85.75884083,  86.89733063,\n",
       "        88.75069511,  92.25098426,  94.31456807,  96.63297932,\n",
       "        96.88492348,  96.58888395,  95.51496981,  96.50926106,\n",
       "        97.31521113,  97.22008108,  97.50768199,  98.61601898,\n",
       "       100.66779733, 101.07794791, 102.39182151, 104.06628112,\n",
       "       108.55567023, 106.86077201, 105.06470345, 103.92650683,\n",
       "       102.37669786, 100.64867461,  99.38216178,  99.59385679,\n",
       "        99.9266508 , 100.81819597,  99.95867532,  98.93792879,\n",
       "        97.12412425,  96.61868938,  96.44488132,  95.32904086,\n",
       "        94.79245271,  94.75290389,  93.81991596,  93.23814999,\n",
       "        94.23744355,  94.36883897,  94.30979642,  94.42645309,\n",
       "        93.71642232,  92.55524148,  92.66832427,  93.97546837,\n",
       "        95.40966144,  97.99929798,  98.9594151 ,  98.80221193,\n",
       "        99.94627236,  99.74796826,  99.56787534,  99.18683544,\n",
       "        98.91340635,  98.40015676,  99.50327745, 101.0191513 ,\n",
       "       102.48886912, 102.8887455 , 103.7452884 ])"
      ]
     },
     "execution_count": 33,
     "metadata": {},
     "output_type": "execute_result"
    }
   ],
   "source": [
    "test_predictions = model(X_test.to(gpu)).detach().cpu().numpy().flatten()\n",
    "\n",
    "dummies = np.zeros((X_test.shape[0], days+1))\n",
    "dummies[:, 0] = test_predictions\n",
    "dummies = scaler.inverse_transform(dummies)\n",
    "\n",
    "test_predictions = dc(dummies[:, 0])\n",
    "test_predictions"
   ]
  },
  {
   "cell_type": "code",
   "execution_count": 34,
   "metadata": {},
   "outputs": [
    {
     "data": {
      "text/plain": [
       "array([168.39999674, 164.73100188, 157.49200233, 163.43049557,\n",
       "       158.75549155, 155.81100359, 155.14849755, 157.80650317,\n",
       "       153.9050009 , 150.4364931 , 147.74550002, 148.02350066,\n",
       "       156.44949298, 149.99299379, 150.98950412, 154.7564998 ,\n",
       "       158.7025004 , 157.24400444, 157.43649336, 161.06300192,\n",
       "       156.25000082, 159.96000907, 154.99800025, 159.78450022,\n",
       "       159.52749817, 164.33250669, 172.14649963, 172.18150469,\n",
       "       168.18550321, 166.93249662, 163.63549582, 160.36050519,\n",
       "       160.85049265, 159.24699637, 158.82000468, 160.2200014 ,\n",
       "       160.35200682, 164.31649929, 158.13900677, 160.55050963,\n",
       "       151.80749309, 150.2240005 , 152.42050404, 162.05800044,\n",
       "       166.1000065 , 165.56849431, 157.18699477, 151.75100589,\n",
       "       156.86950922, 155.51400528, 156.44050549, 156.55299635,\n",
       "       156.78300259, 155.27299395, 155.85099984, 154.96999843,\n",
       "       154.91949732, 155.90300164, 159.25349382, 159.76699769,\n",
       "       158.40199492, 161.00399689, 160.17649797, 159.33650438,\n",
       "       158.12899659, 157.89999636, 158.86450301, 155.2100093 ,\n",
       "       155.07449114, 155.82099709, 157.84849479, 158.2559997 ,\n",
       "       162.04800138, 161.80399978, 160.08250455, 160.30900362,\n",
       "       160.32600592, 159.263504  , 158.63450788, 164.19800011,\n",
       "       166.1000065 , 164.29249376, 162.84649802, 159.33149652,\n",
       "       160.92550508, 156.91900431, 158.10800356, 159.13499463,\n",
       "       155.71049605, 156.04150451, 158.29449526, 156.37350232,\n",
       "       155.21249378, 156.03799178, 163.16900811, 165.34950426,\n",
       "       164.61149668, 164.69999867, 166.30650189, 161.62899671,\n",
       "       161.88099646, 160.30999853, 167.14399432, 169.00000169,\n",
       "       165.62649332, 166.55000326, 167.60749732, 166.14700043,\n",
       "       165.25000274, 164.32899395, 163.10650702, 163.8855002 ,\n",
       "       163.44749231, 165.43200904, 166.41150039, 162.49499676,\n",
       "       159.03700492, 159.72500607, 157.97649836, 152.85800059,\n",
       "       154.64649899, 157.30700576, 154.72650261, 150.2500014 ,\n",
       "       148.87849562, 150.02299654, 147.59750388, 153.14250423,\n",
       "       152.88200612, 155.67950395, 154.47450287, 154.08400026,\n",
       "       154.59300205, 156.78649865, 151.39950462, 153.7480006 ,\n",
       "       155.54350224, 156.87500065, 154.35350253, 152.31300438,\n",
       "       152.60149876, 153.78650172, 152.76449628, 154.70399777,\n",
       "       158.05000454, 161.33650049, 161.19099438, 163.96950011,\n",
       "       164.9649933 , 168.60999931, 168.96949871, 170.00000252,\n",
       "       166.6499939 , 168.95449733, 169.97200069, 168.60049492,\n",
       "       166.7344996 , 168.10099751, 165.45199605, 167.04400369,\n",
       "       170.44999928, 170.8715051 , 172.9250037 , 173.56550512,\n",
       "       173.37100417, 169.32449047, 165.59350586, 163.5269957 ,\n",
       "       165.31849549, 164.58050458, 159.5245079 , 161.19549646,\n",
       "       157.59700084, 158.07350429, 161.14500647, 163.51950335,\n",
       "       161.61399534, 161.58999537, 162.38400104, 160.15400424,\n",
       "       162.24949446, 162.95249698, 163.25799366, 161.50549522,\n",
       "       161.15350484, 160.9324972 , 161.69949039, 159.35049418,\n",
       "       160.31100455, 159.90049825, 163.20550275, 164.05749632,\n",
       "       167.48250069, 167.34150778, 169.19349662, 169.1564962 ,\n",
       "       170.76249919, 174.46200815, 174.34499854, 172.69799883,\n",
       "       175.27200454, 175.19099489, 172.45399723, 170.07299735,\n",
       "       172.19450514, 172.40699774, 172.00799676, 171.64849736,\n",
       "       175.5489936 , 183.78700463, 184.82899709, 186.570496  ,\n",
       "       185.966995  , 185.92750453, 183.8679976 , 184.08399738,\n",
       "       181.55999811, 178.68150175, 177.47950761, 178.6595027 ,\n",
       "       179.25999676, 181.90150587, 182.83200237, 184.9909997 ,\n",
       "       181.31950368, 181.51600557, 179.99600342, 166.37950228,\n",
       "       166.57400324, 168.31199498, 167.73599001, 168.79949795,\n",
       "       167.2469919 , 167.09350433, 166.03399823, 164.60549946,\n",
       "       165.17500143, 164.69850354, 164.9494917 , 162.09800781,\n",
       "       160.06100573, 159.38749461, 159.99749861, 163.29350451,\n",
       "       165.28899853, 164.95900165, 165.80000125, 167.48150579,\n",
       "       171.07850628, 173.53950423, 173.94999941, 173.15600485,\n",
       "       173.90249413, 175.46449346, 176.27499564, 174.2079908 ,\n",
       "       173.45750524, 172.85850631, 172.50000181, 173.78950304,\n",
       "       174.41200171, 173.12600766, 167.78649667, 167.18150053,\n",
       "       169.00250284, 170.8000054 , 171.27600306, 170.28999203,\n",
       "       165.79800589, 165.05600201, 164.25199728, 164.16299505,\n",
       "       159.48899705, 161.05000148, 163.10049313, 165.12150449,\n",
       "       164.43100219, 162.3150025 , 162.36649851, 164.2140075 ,\n",
       "       164.99299513, 170.4510053 , 172.3370043 , 172.20750559,\n",
       "       170.75300592, 171.75050559, 166.77749724, 166.01849663,\n",
       "       168.80349424, 169.62449572, 172.32850593, 168.62150462,\n",
       "       165.90549999, 165.63749841, 169.19999963, 173.85000877,\n",
       "       175.94949528, 174.4490077 , 178.81149513, 174.10249207,\n",
       "       173.62499927, 176.25750423, 177.28399507, 177.03500227,\n",
       "       177.44999953, 184.80299619, 183.82850714, 178.62849393,\n",
       "       179.0019998 , 179.02049167, 175.22799532, 178.07850653,\n",
       "       175.35349774, 172.18600677, 171.86799875, 169.48950003,\n",
       "       171.36850135, 176.16450571, 176.15800271, 174.17100705,\n",
       "       172.21200767, 169.56750273, 169.09150507, 173.31500052,\n",
       "       168.87100321, 170.01749949, 167.07899763, 170.41700626,\n",
       "       171.03700377, 171.0684961 , 169.66949429, 170.66099675,\n",
       "       169.20100565, 168.64449858, 166.71699707, 170.40449492,\n",
       "       167.52200227, 164.35699578, 163.25399737, 162.55400179,\n",
       "       161.48599177, 165.36199892, 165.20699954, 161.21400501,\n",
       "       162.13799851, 158.91749416, 156.29899568, 151.66749509,\n",
       "       142.64300408, 144.54400445, 139.98599336, 138.87249844,\n",
       "       139.63749627, 143.97799855, 149.57350001, 151.19349835,\n",
       "       150.61250219, 138.84550541, 157.63949825, 157.93550165,\n",
       "       161.41349717, 161.18949925, 159.003495  , 153.29350176,\n",
       "       155.1670061 , 156.51049894, 158.10049453, 154.6524962 ,\n",
       "       152.60149876, 150.19749381, 144.82699629, 151.35800212,\n",
       "       153.78849709, 153.56300403, 151.14199678, 152.05250627,\n",
       "       147.89849848, 145.64100565, 137.45300383, 136.01449488,\n",
       "       139.27900567, 146.81750468, 145.52450739, 141.8529947 ,\n",
       "       147.36650272, 153.10400311, 157.23899657, 161.25050521,\n",
       "       161.49149987, 164.8890082 , 163.4080074 , 163.64950785,\n",
       "       164.77349929, 168.99049174, 169.31500275, 166.30099379,\n",
       "       162.99749555, 163.55999984, 168.34649425, 164.05499516,\n",
       "       158.75599734, 157.78449856, 154.4604964 , 151.1219931 ,\n",
       "       150.78750525, 155.54100108, 151.70649644, 152.78500575,\n",
       "       158.11549591, 153.99799942, 148.29600432, 144.35000372,\n",
       "       146.07400567, 139.39100462, 138.16700588, 144.59649537,\n",
       "       124.2815027 , 124.50000086, 124.25350088, 125.92849685,\n",
       "       116.40699847, 114.77249899, 108.78900163, 108.85900063,\n",
       "       105.37200234, 106.93049589, 113.05500005, 110.81050072,\n",
       "       115.36850069, 107.11250358, 107.31900035, 107.59100239,\n",
       "       107.55699918, 104.09999809, 106.77500184, 111.07749906,\n",
       "       115.14649953, 120.20950223, 121.68399725, 125.51100121,\n",
       "       122.34999935, 124.79000149, 122.99999961, 121.18000054,\n",
       "       116.15000198, 109.65000214, 103.66999806, 102.30999829,\n",
       "       107.6699986 , 103.66000386, 106.22000101, 108.67999989,\n",
       "       108.94999683, 112.44000207, 116.45999935, 113.22000127,\n",
       "       107.40000166, 108.91999825, 106.20999917, 109.55999806,\n",
       "       113.50000006, 114.33000152, 116.3300018 , 115.54000075,\n",
       "       111.74999999, 109.22000073, 110.40000137, 110.62999651,\n",
       "       113.55000232, 113.76000211, 118.20999802, 122.76999614,\n",
       "       124.62999702, 122.41999835, 121.13999873, 114.80999825,\n",
       "       120.97000076, 122.28000035, 134.94999758, 135.38999806,\n",
       "       134.16000488, 139.5200031 , 142.57000925, 140.80000272,\n",
       "       139.41000507, 137.83000298, 142.69000357, 140.64000103,\n",
       "       143.55000084, 143.17999102, 144.7799968 , 142.10000324,\n",
       "       142.30000119, 138.22999608, 133.22000121, 133.61999431,\n",
       "       133.80000247, 137.27999891, 130.7499991 , 129.78999174,\n",
       "       128.72999653, 126.76999668, 127.82000117, 127.51000241,\n",
       "       126.11000014, 129.47999576, 129.82000839, 133.27000486,\n",
       "       136.44999605, 126.82000034, 128.55000227, 126.27999811,\n",
       "       123.52999999, 124.66000532, 122.19000322, 118.54000046,\n",
       "       117.30999894, 113.77999884, 115.15000254, 114.41000376,\n",
       "       118.01000286, 114.80000336, 112.99999964, 115.8799967 ,\n",
       "       121.08999508, 120.94999707, 120.30000237, 114.55999805,\n",
       "       113.66999803, 112.2099986 , 112.90000206, 112.5299992 ,\n",
       "       106.90000263, 113.79000069, 116.36000038, 115.0700003 ,\n",
       "       115.25000012, 119.31999967, 119.82000008, 120.59999928,\n",
       "       115.66000341, 110.95999895, 103.41000365, 102.4400021 ,\n",
       "        96.79000116,  92.12000301,  89.30000302,  90.98000304,\n",
       "        90.52999899,  89.98000291,  86.13999884,  96.62999704,\n",
       "       100.79000101,  98.48999791,  98.94000197,  97.1200029 ,\n",
       "        94.84999805,  94.13999897,  92.45999904,  93.199997  ,\n",
       "        94.12999696,  93.410004  ,  93.94999701,  92.41999801,\n",
       "        96.54000095,  95.50000004,  94.12999696,  91.01000197,\n",
       "        88.24999993,  88.45999902,  90.34999813,  89.08999594,\n",
       "        90.55000302,  92.48999797,  91.58000208,  88.44999683,\n",
       "        87.86000102,  84.91999777,  85.19000167,  86.76999681,\n",
       "        83.79000078,  85.25000022,  83.04000085,  81.81999979,\n",
       "        84.17999969,  83.99999987,  85.82000033,  85.13999871,\n",
       "        83.12000309,  86.08000168,  87.3600013 ,  89.87000314,\n",
       "        95.08999606,  95.26999692,  98.12000304,  96.05000307,\n",
       "        95.45999893,  93.68      ,  97.25000011,  97.51999705,\n",
       "        96.32000002,  97.18000006,  99.22000076, 102.2399979 ,\n",
       "       100.55000334, 103.12999722, 105.15000257, 112.9100039 ,\n",
       "       103.38999927, 102.18000005, 102.11000105, 100.05000292,\n",
       "        98.23999805,  97.61000113,  99.54000066,  99.69999679,\n",
       "       101.16000387,  98.15000197,  97.19999715,  94.58000197,\n",
       "        95.79000102,  95.81999995,  93.5       ,  93.760002  ,\n",
       "        94.23000296,  92.16999798,  92.12999703,  94.90000205,\n",
       "        93.74999998,  93.55000299,  93.919998  ,  92.25000004,\n",
       "        90.73000301,  92.43000003,  94.87999697,  96.19999701,\n",
       "       100.04000108,  98.94999687,  97.70999906, 100.61000119,\n",
       "        98.69999701,  98.70999885,  98.12999689,  98.04000115,\n",
       "        97.23999792, 100.25000017, 102.00000023, 103.290001  ,\n",
       "       102.41000421, 103.94999685, 101.09999768])"
      ]
     },
     "execution_count": 34,
     "metadata": {},
     "output_type": "execute_result"
    }
   ],
   "source": [
    "dummies = np.zeros((X_test.shape[0], days+1))\n",
    "dummies[:, 0] = y_test.flatten()\n",
    "dummies = scaler.inverse_transform(dummies)\n",
    "\n",
    "new_y_test = dc(dummies[:, 0])\n",
    "new_y_test"
   ]
  },
  {
   "cell_type": "code",
   "execution_count": 35,
   "metadata": {},
   "outputs": [
    {
     "data": {
      "image/png": "[encoded data removed]",
      "text/plain": [
       "<Figure size 640x480 with 1 Axes>"
      ]
     },
     "metadata": {},
     "output_type": "display_data"
    }
   ],
   "source": [
    "plt.plot(new_y_test, label='Actual Close')\n",
    "plt.plot(test_predictions, label='Predicted Close')\n",
    "plt.xlabel('Day')\n",
    "plt.ylabel('Close')\n",
    "plt.legend()\n",
    "plt.show()"
   ]
  }
 ],
 "metadata": {
  "kernelspec": {
   "display_name": "DL",
   "language": "python",
   "name": "python3"
  },
  "language_info": {
   "codemirror_mode": {
    "name": "ipython",
    "version": 3
   },
   "file_extension": ".py",
   "mimetype": "text/x-python",
   "name": "python",
   "nbconvert_exporter": "python",
   "pygments_lexer": "ipython3",
   "version": "3.11.7"
  }
 },
 "nbformat": 4,
 "nbformat_minor": 2
}
