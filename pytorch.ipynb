{
 "cells": [
  {
   "cell_type": "markdown",
   "metadata": {},
   "source": [
    "## Imports"
   ]
  },
  {
   "cell_type": "code",
   "execution_count": 365,
   "metadata": {},
   "outputs": [],
   "source": [
    "import pandas as pd\n",
    "import matplotlib.pyplot as plt \n",
    "import numpy as np\n",
    "import torch\n",
    "import torch.nn as nn"
   ]
  },
  {
   "cell_type": "code",
   "execution_count": 366,
   "metadata": {},
   "outputs": [
    {
     "data": {
      "text/plain": [
       "'mps:0'"
      ]
     },
     "execution_count": 366,
     "metadata": {},
     "output_type": "execute_result"
    }
   ],
   "source": [
    "#gpu check\n",
    "gpu = 'mps:0' if torch.backends.mps.is_available() else 'cpu'\n",
    "gpu"
   ]
  },
  {
   "cell_type": "code",
   "execution_count": 367,
   "metadata": {},
   "outputs": [
    {
     "data": {
      "text/html": [
       "<div>\n",
       "<style scoped>\n",
       "    .dataframe tbody tr th:only-of-type {\n",
       "        vertical-align: middle;\n",
       "    }\n",
       "\n",
       "    .dataframe tbody tr th {\n",
       "        vertical-align: top;\n",
       "    }\n",
       "\n",
       "    .dataframe thead th {\n",
       "        text-align: right;\n",
       "    }\n",
       "</style>\n",
       "<table border=\"1\" class=\"dataframe\">\n",
       "  <thead>\n",
       "    <tr style=\"text-align: right;\">\n",
       "      <th></th>\n",
       "      <th>Date</th>\n",
       "      <th>Open</th>\n",
       "      <th>High</th>\n",
       "      <th>Low</th>\n",
       "      <th>Close</th>\n",
       "      <th>Adj Close</th>\n",
       "      <th>Volume</th>\n",
       "    </tr>\n",
       "  </thead>\n",
       "  <tbody>\n",
       "    <tr>\n",
       "      <th>0</th>\n",
       "      <td>1997-05-15</td>\n",
       "      <td>0.121875</td>\n",
       "      <td>0.125000</td>\n",
       "      <td>0.096354</td>\n",
       "      <td>0.097917</td>\n",
       "      <td>0.097917</td>\n",
       "      <td>1443120000</td>\n",
       "    </tr>\n",
       "    <tr>\n",
       "      <th>1</th>\n",
       "      <td>1997-05-16</td>\n",
       "      <td>0.098438</td>\n",
       "      <td>0.098958</td>\n",
       "      <td>0.085417</td>\n",
       "      <td>0.086458</td>\n",
       "      <td>0.086458</td>\n",
       "      <td>294000000</td>\n",
       "    </tr>\n",
       "    <tr>\n",
       "      <th>2</th>\n",
       "      <td>1997-05-19</td>\n",
       "      <td>0.088021</td>\n",
       "      <td>0.088542</td>\n",
       "      <td>0.081250</td>\n",
       "      <td>0.085417</td>\n",
       "      <td>0.085417</td>\n",
       "      <td>122136000</td>\n",
       "    </tr>\n",
       "    <tr>\n",
       "      <th>3</th>\n",
       "      <td>1997-05-20</td>\n",
       "      <td>0.086458</td>\n",
       "      <td>0.087500</td>\n",
       "      <td>0.081771</td>\n",
       "      <td>0.081771</td>\n",
       "      <td>0.081771</td>\n",
       "      <td>109344000</td>\n",
       "    </tr>\n",
       "    <tr>\n",
       "      <th>4</th>\n",
       "      <td>1997-05-21</td>\n",
       "      <td>0.081771</td>\n",
       "      <td>0.082292</td>\n",
       "      <td>0.068750</td>\n",
       "      <td>0.071354</td>\n",
       "      <td>0.071354</td>\n",
       "      <td>377064000</td>\n",
       "    </tr>\n",
       "  </tbody>\n",
       "</table>\n",
       "</div>"
      ],
      "text/plain": [
       "         Date      Open      High       Low     Close  Adj Close      Volume\n",
       "0  1997-05-15  0.121875  0.125000  0.096354  0.097917   0.097917  1443120000\n",
       "1  1997-05-16  0.098438  0.098958  0.085417  0.086458   0.086458   294000000\n",
       "2  1997-05-19  0.088021  0.088542  0.081250  0.085417   0.085417   122136000\n",
       "3  1997-05-20  0.086458  0.087500  0.081771  0.081771   0.081771   109344000\n",
       "4  1997-05-21  0.081771  0.082292  0.068750  0.071354   0.071354   377064000"
      ]
     },
     "execution_count": 367,
     "metadata": {},
     "output_type": "execute_result"
    }
   ],
   "source": [
    "df = pd.read_csv('Amazon.csv')\n",
    "df.head()"
   ]
  },
  {
   "cell_type": "code",
   "execution_count": 368,
   "metadata": {},
   "outputs": [
    {
     "name": "stdout",
     "output_type": "stream",
     "text": [
      "<class 'pandas.core.frame.DataFrame'>\n",
      "RangeIndex: 6516 entries, 0 to 6515\n",
      "Data columns (total 7 columns):\n",
      " #   Column     Non-Null Count  Dtype  \n",
      "---  ------     --------------  -----  \n",
      " 0   Date       6516 non-null   object \n",
      " 1   Open       6516 non-null   float64\n",
      " 2   High       6516 non-null   float64\n",
      " 3   Low        6516 non-null   float64\n",
      " 4   Close      6516 non-null   float64\n",
      " 5   Adj Close  6516 non-null   float64\n",
      " 6   Volume     6516 non-null   int64  \n",
      "dtypes: float64(5), int64(1), object(1)\n",
      "memory usage: 356.5+ KB\n"
     ]
    }
   ],
   "source": [
    "df.info()"
   ]
  },
  {
   "cell_type": "code",
   "execution_count": 369,
   "metadata": {},
   "outputs": [
    {
     "data": {
      "text/html": [
       "<div>\n",
       "<style scoped>\n",
       "    .dataframe tbody tr th:only-of-type {\n",
       "        vertical-align: middle;\n",
       "    }\n",
       "\n",
       "    .dataframe tbody tr th {\n",
       "        vertical-align: top;\n",
       "    }\n",
       "\n",
       "    .dataframe thead th {\n",
       "        text-align: right;\n",
       "    }\n",
       "</style>\n",
       "<table border=\"1\" class=\"dataframe\">\n",
       "  <thead>\n",
       "    <tr style=\"text-align: right;\">\n",
       "      <th></th>\n",
       "      <th>Date</th>\n",
       "      <th>Close</th>\n",
       "    </tr>\n",
       "  </thead>\n",
       "  <tbody>\n",
       "    <tr>\n",
       "      <th>0</th>\n",
       "      <td>1997-05-15</td>\n",
       "      <td>0.097917</td>\n",
       "    </tr>\n",
       "    <tr>\n",
       "      <th>1</th>\n",
       "      <td>1997-05-16</td>\n",
       "      <td>0.086458</td>\n",
       "    </tr>\n",
       "    <tr>\n",
       "      <th>2</th>\n",
       "      <td>1997-05-19</td>\n",
       "      <td>0.085417</td>\n",
       "    </tr>\n",
       "    <tr>\n",
       "      <th>3</th>\n",
       "      <td>1997-05-20</td>\n",
       "      <td>0.081771</td>\n",
       "    </tr>\n",
       "    <tr>\n",
       "      <th>4</th>\n",
       "      <td>1997-05-21</td>\n",
       "      <td>0.071354</td>\n",
       "    </tr>\n",
       "  </tbody>\n",
       "</table>\n",
       "</div>"
      ],
      "text/plain": [
       "         Date     Close\n",
       "0  1997-05-15  0.097917\n",
       "1  1997-05-16  0.086458\n",
       "2  1997-05-19  0.085417\n",
       "3  1997-05-20  0.081771\n",
       "4  1997-05-21  0.071354"
      ]
     },
     "execution_count": 369,
     "metadata": {},
     "output_type": "execute_result"
    }
   ],
   "source": [
    "df = df[['Date', 'Close']]\n",
    "df.head()"
   ]
  },
  {
   "cell_type": "code",
   "execution_count": 370,
   "metadata": {},
   "outputs": [
    {
     "data": {
      "image/png": "[encoded data removed]",
      "text/plain": [
       "<Figure size 640x480 with 1 Axes>"
      ]
     },
     "metadata": {},
     "output_type": "display_data"
    }
   ],
   "source": [
    "df['Date'] = pd.to_datetime(df['Date'])\n",
    "plt.plot(df['Date'], df['Close'])\n",
    "plt.show()"
   ]
  },
  {
   "cell_type": "code",
   "execution_count": 371,
   "metadata": {},
   "outputs": [
    {
     "data": {
      "text/html": [
       "<div>\n",
       "<style scoped>\n",
       "    .dataframe tbody tr th:only-of-type {\n",
       "        vertical-align: middle;\n",
       "    }\n",
       "\n",
       "    .dataframe tbody tr th {\n",
       "        vertical-align: top;\n",
       "    }\n",
       "\n",
       "    .dataframe thead th {\n",
       "        text-align: right;\n",
       "    }\n",
       "</style>\n",
       "<table border=\"1\" class=\"dataframe\">\n",
       "  <thead>\n",
       "    <tr style=\"text-align: right;\">\n",
       "      <th></th>\n",
       "      <th>Close</th>\n",
       "      <th>Close(t-1)</th>\n",
       "      <th>Close(t-2)</th>\n",
       "      <th>Close(t-3)</th>\n",
       "      <th>Close(t-4)</th>\n",
       "      <th>Close(t-5)</th>\n",
       "      <th>Close(t-6)</th>\n",
       "      <th>Close(t-7)</th>\n",
       "    </tr>\n",
       "    <tr>\n",
       "      <th>Date</th>\n",
       "      <th></th>\n",
       "      <th></th>\n",
       "      <th></th>\n",
       "      <th></th>\n",
       "      <th></th>\n",
       "      <th></th>\n",
       "      <th></th>\n",
       "      <th></th>\n",
       "    </tr>\n",
       "  </thead>\n",
       "  <tbody>\n",
       "    <tr>\n",
       "      <th>1997-05-27</th>\n",
       "      <td>0.079167</td>\n",
       "      <td>0.075000</td>\n",
       "      <td>0.069792</td>\n",
       "      <td>0.071354</td>\n",
       "      <td>0.081771</td>\n",
       "      <td>0.085417</td>\n",
       "      <td>0.086458</td>\n",
       "      <td>0.097917</td>\n",
       "    </tr>\n",
       "    <tr>\n",
       "      <th>1997-05-28</th>\n",
       "      <td>0.076563</td>\n",
       "      <td>0.079167</td>\n",
       "      <td>0.075000</td>\n",
       "      <td>0.069792</td>\n",
       "      <td>0.071354</td>\n",
       "      <td>0.081771</td>\n",
       "      <td>0.085417</td>\n",
       "      <td>0.086458</td>\n",
       "    </tr>\n",
       "    <tr>\n",
       "      <th>1997-05-29</th>\n",
       "      <td>0.075260</td>\n",
       "      <td>0.076563</td>\n",
       "      <td>0.079167</td>\n",
       "      <td>0.075000</td>\n",
       "      <td>0.069792</td>\n",
       "      <td>0.071354</td>\n",
       "      <td>0.081771</td>\n",
       "      <td>0.085417</td>\n",
       "    </tr>\n",
       "    <tr>\n",
       "      <th>1997-05-30</th>\n",
       "      <td>0.075000</td>\n",
       "      <td>0.075260</td>\n",
       "      <td>0.076563</td>\n",
       "      <td>0.079167</td>\n",
       "      <td>0.075000</td>\n",
       "      <td>0.069792</td>\n",
       "      <td>0.071354</td>\n",
       "      <td>0.081771</td>\n",
       "    </tr>\n",
       "    <tr>\n",
       "      <th>1997-06-02</th>\n",
       "      <td>0.075521</td>\n",
       "      <td>0.075000</td>\n",
       "      <td>0.075260</td>\n",
       "      <td>0.076563</td>\n",
       "      <td>0.079167</td>\n",
       "      <td>0.075000</td>\n",
       "      <td>0.069792</td>\n",
       "      <td>0.071354</td>\n",
       "    </tr>\n",
       "  </tbody>\n",
       "</table>\n",
       "</div>"
      ],
      "text/plain": [
       "               Close  Close(t-1)  Close(t-2)  Close(t-3)  Close(t-4)  \\\n",
       "Date                                                                   \n",
       "1997-05-27  0.079167    0.075000    0.069792    0.071354    0.081771   \n",
       "1997-05-28  0.076563    0.079167    0.075000    0.069792    0.071354   \n",
       "1997-05-29  0.075260    0.076563    0.079167    0.075000    0.069792   \n",
       "1997-05-30  0.075000    0.075260    0.076563    0.079167    0.075000   \n",
       "1997-06-02  0.075521    0.075000    0.075260    0.076563    0.079167   \n",
       "\n",
       "            Close(t-5)  Close(t-6)  Close(t-7)  \n",
       "Date                                            \n",
       "1997-05-27    0.085417    0.086458    0.097917  \n",
       "1997-05-28    0.081771    0.085417    0.086458  \n",
       "1997-05-29    0.071354    0.081771    0.085417  \n",
       "1997-05-30    0.069792    0.071354    0.081771  \n",
       "1997-06-02    0.075000    0.069792    0.071354  "
      ]
     },
     "execution_count": 371,
     "metadata": {},
     "output_type": "execute_result"
    }
   ],
   "source": [
    "#changing the data to a weekly basis\n",
    "\n",
    "from copy import deepcopy as dc\n",
    "\n",
    "def create_data(data, days):\n",
    "  df_train = dc(df)\n",
    "  df_train.set_index('Date', inplace=True)\n",
    "  for i in range(1, days+1):\n",
    "    df_train[f'Close(t-{i})'] = df_train['Close'].shift(i)\n",
    "  df_train.dropna(inplace=True)\n",
    "  return df_train\n",
    "\n",
    "days = 7\n",
    "df_train = create_data(df, days)\n",
    "df_train.head()"
   ]
  },
  {
   "cell_type": "code",
   "execution_count": 372,
   "metadata": {},
   "outputs": [],
   "source": [
    "from sklearn.preprocessing import MinMaxScaler  \n",
    "\n",
    "scaler = MinMaxScaler(feature_range=(-1, 1))\n",
    "df_train_scaled = scaler.fit_transform(df_train)\n",
    "df_train_scaled = pd.DataFrame(df_train_scaled, columns=df_train.columns, index=df_train.index)"
   ]
  },
  {
   "cell_type": "code",
   "execution_count": 373,
   "metadata": {},
   "outputs": [
    {
     "data": {
      "text/html": [
       "<div>\n",
       "<style scoped>\n",
       "    .dataframe tbody tr th:only-of-type {\n",
       "        vertical-align: middle;\n",
       "    }\n",
       "\n",
       "    .dataframe tbody tr th {\n",
       "        vertical-align: top;\n",
       "    }\n",
       "\n",
       "    .dataframe thead th {\n",
       "        text-align: right;\n",
       "    }\n",
       "</style>\n",
       "<table border=\"1\" class=\"dataframe\">\n",
       "  <thead>\n",
       "    <tr style=\"text-align: right;\">\n",
       "      <th></th>\n",
       "      <th>Close</th>\n",
       "      <th>Close(t-1)</th>\n",
       "      <th>Close(t-2)</th>\n",
       "      <th>Close(t-3)</th>\n",
       "      <th>Close(t-4)</th>\n",
       "      <th>Close(t-5)</th>\n",
       "      <th>Close(t-6)</th>\n",
       "      <th>Close(t-7)</th>\n",
       "    </tr>\n",
       "    <tr>\n",
       "      <th>Date</th>\n",
       "      <th></th>\n",
       "      <th></th>\n",
       "      <th></th>\n",
       "      <th></th>\n",
       "      <th></th>\n",
       "      <th></th>\n",
       "      <th></th>\n",
       "      <th></th>\n",
       "    </tr>\n",
       "  </thead>\n",
       "  <tbody>\n",
       "    <tr>\n",
       "      <th>1997-05-27</th>\n",
       "      <td>-0.999911</td>\n",
       "      <td>-0.999955</td>\n",
       "      <td>-1.000000</td>\n",
       "      <td>-0.999983</td>\n",
       "      <td>-0.999872</td>\n",
       "      <td>-0.999832</td>\n",
       "      <td>-0.999821</td>\n",
       "      <td>-0.999698</td>\n",
       "    </tr>\n",
       "    <tr>\n",
       "      <th>1997-05-28</th>\n",
       "      <td>-0.999939</td>\n",
       "      <td>-0.999911</td>\n",
       "      <td>-0.999944</td>\n",
       "      <td>-1.000000</td>\n",
       "      <td>-0.999983</td>\n",
       "      <td>-0.999872</td>\n",
       "      <td>-0.999832</td>\n",
       "      <td>-0.999821</td>\n",
       "    </tr>\n",
       "    <tr>\n",
       "      <th>1997-05-29</th>\n",
       "      <td>-0.999953</td>\n",
       "      <td>-0.999939</td>\n",
       "      <td>-0.999899</td>\n",
       "      <td>-0.999944</td>\n",
       "      <td>-1.000000</td>\n",
       "      <td>-0.999983</td>\n",
       "      <td>-0.999872</td>\n",
       "      <td>-0.999832</td>\n",
       "    </tr>\n",
       "    <tr>\n",
       "      <th>1997-05-30</th>\n",
       "      <td>-0.999955</td>\n",
       "      <td>-0.999953</td>\n",
       "      <td>-0.999927</td>\n",
       "      <td>-0.999899</td>\n",
       "      <td>-0.999944</td>\n",
       "      <td>-1.000000</td>\n",
       "      <td>-0.999983</td>\n",
       "      <td>-0.999872</td>\n",
       "    </tr>\n",
       "    <tr>\n",
       "      <th>1997-06-02</th>\n",
       "      <td>-0.999950</td>\n",
       "      <td>-0.999955</td>\n",
       "      <td>-0.999941</td>\n",
       "      <td>-0.999927</td>\n",
       "      <td>-0.999899</td>\n",
       "      <td>-0.999944</td>\n",
       "      <td>-1.000000</td>\n",
       "      <td>-0.999983</td>\n",
       "    </tr>\n",
       "  </tbody>\n",
       "</table>\n",
       "</div>"
      ],
      "text/plain": [
       "               Close  Close(t-1)  Close(t-2)  Close(t-3)  Close(t-4)  \\\n",
       "Date                                                                   \n",
       "1997-05-27 -0.999911   -0.999955   -1.000000   -0.999983   -0.999872   \n",
       "1997-05-28 -0.999939   -0.999911   -0.999944   -1.000000   -0.999983   \n",
       "1997-05-29 -0.999953   -0.999939   -0.999899   -0.999944   -1.000000   \n",
       "1997-05-30 -0.999955   -0.999953   -0.999927   -0.999899   -0.999944   \n",
       "1997-06-02 -0.999950   -0.999955   -0.999941   -0.999927   -0.999899   \n",
       "\n",
       "            Close(t-5)  Close(t-6)  Close(t-7)  \n",
       "Date                                            \n",
       "1997-05-27   -0.999832   -0.999821   -0.999698  \n",
       "1997-05-28   -0.999872   -0.999832   -0.999821  \n",
       "1997-05-29   -0.999983   -0.999872   -0.999832  \n",
       "1997-05-30   -1.000000   -0.999983   -0.999872  \n",
       "1997-06-02   -0.999944   -1.000000   -0.999983  "
      ]
     },
     "execution_count": 373,
     "metadata": {},
     "output_type": "execute_result"
    }
   ],
   "source": [
    "df_train_scaled.head()"
   ]
  },
  {
   "cell_type": "code",
   "execution_count": 374,
   "metadata": {},
   "outputs": [
    {
     "data": {
      "text/plain": [
       "((6509, 7), (6509,))"
      ]
     },
     "execution_count": 374,
     "metadata": {},
     "output_type": "execute_result"
    }
   ],
   "source": [
    "X = df_train_scaled.drop('Close', axis=1).values\n",
    "y = df_train_scaled['Close'].values\n",
    "\n",
    "X.shape, y.shape"
   ]
  },
  {
   "cell_type": "code",
   "execution_count": 375,
   "metadata": {},
   "outputs": [
    {
     "data": {
      "text/plain": [
       "array([[-0.99969839, -0.99982128, -0.99983244, ..., -0.99998325,\n",
       "        -1.        , -0.99995531],\n",
       "       [-0.99982128, -0.99983244, -0.99987154, ..., -1.        ,\n",
       "        -0.99994415, -0.99991063],\n",
       "       [-0.99983244, -0.99987154, -0.99998325, ..., -0.99994415,\n",
       "        -0.99989946, -0.99993855],\n",
       "       ...,\n",
       "       [ 0.05779984,  0.05158   ,  0.0506149 , ...,  0.07431453,\n",
       "         0.09308121,  0.10690997],\n",
       "       [ 0.05158   ,  0.0506149 ,  0.04203581, ...,  0.09308121,\n",
       "         0.10691495,  0.09747299],\n",
       "       [ 0.0506149 ,  0.04203581,  0.07431453, ...,  0.10691495,\n",
       "         0.09747802,  0.11398769]])"
      ]
     },
     "execution_count": 375,
     "metadata": {},
     "output_type": "execute_result"
    }
   ],
   "source": [
    "X = dc(np.flip(X, axis=1))\n",
    "X"
   ]
  },
  {
   "cell_type": "code",
   "execution_count": 376,
   "metadata": {},
   "outputs": [
    {
     "data": {
      "text/plain": [
       "5858"
      ]
     },
     "execution_count": 376,
     "metadata": {},
     "output_type": "execute_result"
    }
   ],
   "source": [
    "split = int(0.9 * len(X))\n",
    "split"
   ]
  },
  {
   "cell_type": "code",
   "execution_count": 377,
   "metadata": {},
   "outputs": [
    {
     "data": {
      "text/plain": [
       "((5858, 7), (651, 7), (5858,), (651,))"
      ]
     },
     "execution_count": 377,
     "metadata": {},
     "output_type": "execute_result"
    }
   ],
   "source": [
    "X_train = X[:split]\n",
    "X_test = X[split:]\n",
    "\n",
    "y_train = y[:split]\n",
    "y_test = y[split:]\n",
    "\n",
    "X_train.shape, X_test.shape, y_train.shape, y_test.shape"
   ]
  },
  {
   "cell_type": "code",
   "execution_count": 378,
   "metadata": {},
   "outputs": [
    {
     "data": {
      "text/plain": [
       "((5858, 7, 1), (651, 7, 1), (5858, 1), (651, 1))"
      ]
     },
     "execution_count": 378,
     "metadata": {},
     "output_type": "execute_result"
    }
   ],
   "source": [
    "X_train = X_train.reshape(-1, 7, 1)\n",
    "X_test = X_test.reshape(-1, 7, 1)\n",
    "\n",
    "y_train = y_train.reshape(-1, 1)\n",
    "y_test = y_test.reshape(-1, 1)\n",
    "\n",
    "X_train.shape, X_test.shape, y_train.shape, y_test.shape"
   ]
  },
  {
   "cell_type": "code",
   "execution_count": 379,
   "metadata": {},
   "outputs": [
    {
     "data": {
      "text/plain": [
       "(torch.Size([5858, 7, 1]),\n",
       " torch.Size([651, 7, 1]),\n",
       " torch.Size([5858, 1]),\n",
       " torch.Size([651, 1]))"
      ]
     },
     "execution_count": 379,
     "metadata": {},
     "output_type": "execute_result"
    }
   ],
   "source": [
    "X_train = torch.tensor(X_train).float() \n",
    "X_test = torch.tensor(X_test).float() \n",
    "y_train = torch.tensor(y_train).float() \n",
    "y_test = torch.tensor(y_test).float() \n",
    "\n",
    "X_train.shape, X_test.shape, y_train.shape, y_test.shape"
   ]
  },
  {
   "cell_type": "code",
   "execution_count": 380,
   "metadata": {},
   "outputs": [],
   "source": [
    "from torch.utils.data import DataLoader, Dataset \n",
    "\n",
    "class StockDataset(Dataset):\n",
    "  def __init__(self, X, y):\n",
    "    self.X = X\n",
    "    self.y = y\n",
    "\n",
    "  def __len__(self):\n",
    "    return len(self.X)\n",
    "\n",
    "  def __getitem__(self, idx):\n",
    "    return self.X[idx], self.y[idx]\n",
    "  \n",
    "train_data = StockDataset(X_train, y_train)\n",
    "test_data = StockDataset(X_test, y_test)"
   ]
  },
  {
   "cell_type": "code",
   "execution_count": 381,
   "metadata": {},
   "outputs": [],
   "source": [
    "batch_size = 16\n",
    "\n",
    "train_loader = DataLoader(dataset=train_data, batch_size=batch_size, shuffle=True)\n",
    "test_loader = DataLoader(dataset=test_data, batch_size=batch_size, shuffle=False)"
   ]
  },
  {
   "cell_type": "code",
   "execution_count": 382,
   "metadata": {},
   "outputs": [
    {
     "data": {
      "text/plain": [
       "LSTM(\n",
       "  (lstm): LSTM(1, 4, batch_first=True)\n",
       "  (fc): Linear(in_features=4, out_features=1, bias=True)\n",
       ")"
      ]
     },
     "execution_count": 382,
     "metadata": {},
     "output_type": "execute_result"
    }
   ],
   "source": [
    "class LSTM(nn.Module):\n",
    "    def __init__(self, input_size, hidden_size, num_stacked_layers):\n",
    "        super().__init__()\n",
    "        self.hidden_size = hidden_size\n",
    "        self.num_stacked_layers = num_stacked_layers\n",
    "\n",
    "        self.lstm = nn.LSTM(input_size, hidden_size, num_stacked_layers, \n",
    "                            batch_first=True)\n",
    "        \n",
    "        self.fc = nn.Linear(hidden_size, 1)\n",
    "\n",
    "    def forward(self, x):\n",
    "        batch_size = x.size(0)\n",
    "        h0 = torch.zeros(self.num_stacked_layers, batch_size, self.hidden_size).to(gpu)\n",
    "        c0 = torch.zeros(self.num_stacked_layers, batch_size, self.hidden_size).to(gpu)\n",
    "        \n",
    "        out, _ = self.lstm(x, (h0, c0))\n",
    "        out = self.fc(out[:, -1, :])\n",
    "        return out\n",
    "\n",
    "model = LSTM(1, 4, 1)\n",
    "model.to(gpu)\n",
    "model"
   ]
  },
  {
   "cell_type": "code",
   "execution_count": 383,
   "metadata": {},
   "outputs": [],
   "source": [
    "optimizer = torch.optim.Adam(model.parameters(), lr=0.001)\n",
    "loss_function = nn.MSELoss()\n",
    "\n",
    "def train_one_epoch(epoch):\n",
    "    model.train(True)\n",
    "    running_loss = 0.0\n",
    "    print(f'Epoch: {epoch + 1}')\n",
    "    \n",
    "    for batch_index, batch in enumerate(train_loader):\n",
    "        x_batch, y_batch = batch[0].to(gpu), batch[1].to(gpu)\n",
    "        \n",
    "        output = model(x_batch)\n",
    "        loss = loss_function(output, y_batch)\n",
    "        running_loss += loss.item()\n",
    "        \n",
    "        optimizer.zero_grad()\n",
    "        loss.backward()\n",
    "        optimizer.step()\n",
    "\n",
    "        if batch_index % 100 == 99:  # print every 100 batches\n",
    "            avg_loss_across_batches = running_loss / 100\n",
    "            print('Batch {0}, Loss: {1:.3f}'.format(batch_index+1,\n",
    "                                                    avg_loss_across_batches))\n",
    "            running_loss = 0.0\n",
    "    print()"
   ]
  },
  {
   "cell_type": "code",
   "execution_count": 384,
   "metadata": {},
   "outputs": [],
   "source": [
    "def validate_one_epoch():\n",
    "    model.train(False)\n",
    "    running_loss = 0.0\n",
    "    \n",
    "    for batch_index, batch in enumerate(test_loader):\n",
    "        x_batch, y_batch = batch[0].to(gpu), batch[1].to(gpu)\n",
    "        \n",
    "        with torch.no_grad():\n",
    "            output = model(x_batch)\n",
    "            loss = loss_function(output, y_batch)\n",
    "            running_loss += loss.item()\n",
    "\n",
    "    avg_loss_across_batches = running_loss / len(test_loader)\n",
    "    \n",
    "    print('Val Loss: {0:.3f}'.format(avg_loss_across_batches))\n",
    "    print('***************************************************')\n",
    "    print()"
   ]
  },
  {
   "cell_type": "code",
   "execution_count": 385,
   "metadata": {},
   "outputs": [
    {
     "name": "stdout",
     "output_type": "stream",
     "text": [
      "Epoch: 1\n",
      "Batch 100, Loss: 0.875\n",
      "Batch 200, Loss: 0.221\n",
      "Batch 300, Loss: 0.043\n",
      "\n",
      "Val Loss: 0.256\n",
      "***************************************************\n",
      "\n",
      "Epoch: 2\n",
      "Batch 100, Loss: 0.008\n",
      "Batch 200, Loss: 0.002\n",
      "Batch 300, Loss: 0.002\n",
      "\n",
      "Val Loss: 0.128\n",
      "***************************************************\n",
      "\n",
      "Epoch: 3\n",
      "Batch 100, Loss: 0.002\n",
      "Batch 200, Loss: 0.002\n",
      "Batch 300, Loss: 0.002\n",
      "\n",
      "Val Loss: 0.098\n",
      "***************************************************\n",
      "\n",
      "Epoch: 4\n",
      "Batch 100, Loss: 0.001\n",
      "Batch 200, Loss: 0.001\n",
      "Batch 300, Loss: 0.001\n",
      "\n",
      "Val Loss: 0.077\n",
      "***************************************************\n",
      "\n",
      "Epoch: 5\n",
      "Batch 100, Loss: 0.001\n",
      "Batch 200, Loss: 0.001\n",
      "Batch 300, Loss: 0.001\n",
      "\n",
      "Val Loss: 0.057\n",
      "***************************************************\n",
      "\n",
      "Epoch: 6\n",
      "Batch 100, Loss: 0.001\n",
      "Batch 200, Loss: 0.001\n",
      "Batch 300, Loss: 0.001\n",
      "\n",
      "Val Loss: 0.043\n",
      "***************************************************\n",
      "\n",
      "Epoch: 7\n",
      "Batch 100, Loss: 0.001\n",
      "Batch 200, Loss: 0.000\n",
      "Batch 300, Loss: 0.000\n",
      "\n",
      "Val Loss: 0.026\n",
      "***************************************************\n",
      "\n",
      "Epoch: 8\n",
      "Batch 100, Loss: 0.000\n",
      "Batch 200, Loss: 0.000\n",
      "Batch 300, Loss: 0.000\n",
      "\n",
      "Val Loss: 0.014\n",
      "***************************************************\n",
      "\n",
      "Epoch: 9\n",
      "Batch 100, Loss: 0.000\n",
      "Batch 200, Loss: 0.000\n",
      "Batch 300, Loss: 0.000\n",
      "\n",
      "Val Loss: 0.008\n",
      "***************************************************\n",
      "\n",
      "Epoch: 10\n",
      "Batch 100, Loss: 0.000\n",
      "Batch 200, Loss: 0.000\n",
      "Batch 300, Loss: 0.000\n",
      "\n",
      "Val Loss: 0.005\n",
      "***************************************************\n",
      "\n"
     ]
    }
   ],
   "source": [
    "num_epochs = 10\n",
    "\n",
    "for epoch in range(num_epochs):\n",
    "    train_one_epoch(epoch)\n",
    "    validate_one_epoch()"
   ]
  },
  {
   "cell_type": "code",
   "execution_count": 386,
   "metadata": {},
   "outputs": [
    {
     "data": {
      "image/png": "[encoded data removed]",
      "text/plain": [
       "<Figure size 640x480 with 1 Axes>"
      ]
     },
     "metadata": {},
     "output_type": "display_data"
    }
   ],
   "source": [
    "with torch.no_grad():\n",
    "    predicted = model(X_train.to(gpu)).to('cpu').numpy()\n",
    "\n",
    "plt.plot(y_train, label='Actual Close')\n",
    "plt.plot(predicted, label='Predicted Close')\n",
    "plt.xlabel('Day')\n",
    "plt.ylabel('Close')\n",
    "plt.legend()\n",
    "plt.show()"
   ]
  },
  {
   "cell_type": "code",
   "execution_count": 387,
   "metadata": {},
   "outputs": [
    {
     "data": {
      "text/plain": [
       "array([3.65752443e-03, 1.93450628e-03, 1.23418277e-03, ...,\n",
       "       1.61899672e+02, 1.62477411e+02, 1.63270144e+02])"
      ]
     },
     "execution_count": 387,
     "metadata": {},
     "output_type": "execute_result"
    }
   ],
   "source": [
    "train_predictions = predicted.flatten()\n",
    "\n",
    "dummies = np.zeros((X_train.shape[0], days+1))\n",
    "dummies[:, 0] = train_predictions\n",
    "dummies = scaler.inverse_transform(dummies)\n",
    "\n",
    "train_predictions = dc(dummies[:, 0])\n",
    "train_predictions"
   ]
  },
  {
   "cell_type": "code",
   "execution_count": 388,
   "metadata": {},
   "outputs": [
    {
     "data": {
      "text/plain": [
       "array([7.91646265e-02, 7.65634249e-02, 7.52572660e-02, ...,\n",
       "       1.72548002e+02, 1.74955992e+02, 1.76572494e+02])"
      ]
     },
     "execution_count": 388,
     "metadata": {},
     "output_type": "execute_result"
    }
   ],
   "source": [
    "dummies = np.zeros((X_train.shape[0], days+1))\n",
    "dummies[:, 0] = y_train.flatten()\n",
    "dummies = scaler.inverse_transform(dummies)\n",
    "\n",
    "new_y_train = dc(dummies[:, 0])\n",
    "new_y_train"
   ]
  },
  {
   "cell_type": "code",
   "execution_count": 389,
   "metadata": {},
   "outputs": [
    {
     "data": {
      "image/png": "[encoded data removed]",
      "text/plain": [
       "<Figure size 640x480 with 1 Axes>"
      ]
     },
     "metadata": {},
     "output_type": "display_data"
    }
   ],
   "source": [
    "plt.plot(new_y_train, label='Actual Close')\n",
    "plt.plot(train_predictions, label='Predicted Close')\n",
    "plt.xlabel('Day')\n",
    "plt.ylabel('Close')\n",
    "plt.legend()\n",
    "plt.show()"
   ]
  },
  {
   "cell_type": "code",
   "execution_count": 390,
   "metadata": {},
   "outputs": [
    {
     "data": {
      "text/plain": [
       "array([164.07204192, 163.54382014, 162.41173607, 160.43647362,\n",
       "       159.83071046, 158.67398167, 157.22541252, 155.92496179,\n",
       "       155.56384497, 154.72509641, 153.60258899, 152.04445255,\n",
       "       150.99000991, 151.86338002, 151.47545082, 151.20905554,\n",
       "       151.79682149, 153.07878035, 153.90624592, 154.5275885 ,\n",
       "       155.36408603, 155.37698087, 155.93343792, 155.45433883,\n",
       "       155.76026348, 156.04097649, 157.04156092, 158.93594157,\n",
       "       160.51755552, 160.98183665, 161.17983367, 160.70214634,\n",
       "       159.81673734, 159.11806459, 158.19174224, 157.40769116,\n",
       "       157.13298093, 156.98905889, 157.59597814, 157.16240563,\n",
       "       157.13955063, 155.68810237, 154.20642904, 153.43886891,\n",
       "       154.6138339 , 156.17367112, 157.4242766 , 156.87467272,\n",
       "       155.59417009, 155.49439066, 155.22668922, 154.97966956,\n",
       "       154.7298486 , 154.57078068, 154.38154326, 154.46506518,\n",
       "       154.24886531, 154.10457087, 154.14889135, 154.77673693,\n",
       "       155.3661203 , 155.61361796, 156.19022321, 156.52892411,\n",
       "       156.63294439, 156.4754772 , 156.22392211, 156.18569334,\n",
       "       155.58407654, 155.00102387, 154.71018396, 154.88036813,\n",
       "       155.13824837, 155.97920351, 156.57223857, 156.80591874,\n",
       "       156.98853643, 157.11073176, 156.98286158, 156.76871266,\n",
       "       157.42829513, 158.28706405, 158.69984918, 158.73543228,\n",
       "       158.16413504, 157.97820471, 157.22705216, 156.70527224,\n",
       "       156.46044248, 155.74846359, 155.25664195, 155.3649253 ,\n",
       "       155.10342673, 154.78215054, 154.63982924, 155.72827648,\n",
       "       157.05999166, 157.94006487, 158.51388549, 159.21146885,\n",
       "       159.04531987, 158.89436125, 158.37922329, 159.01839077,\n",
       "       159.87270208, 160.01567923, 160.15770595, 160.52088483,\n",
       "       160.57996768, 160.51839479, 160.1808333 , 159.6864327 ,\n",
       "       159.50178073, 159.29278975, 159.419137  , 159.71497922,\n",
       "       159.35606898, 158.4968832 , 157.94872998, 157.24768947,\n",
       "       155.84337966, 154.99775569, 154.82443118, 154.37201664,\n",
       "       153.27548788, 152.10005046, 151.44207429, 150.64507279,\n",
       "       151.03554205, 151.28273957, 152.03973371, 152.53469568,\n",
       "       152.84557818, 153.12044404, 153.79220991, 153.2143263 ,\n",
       "       153.14487755, 153.36829187, 153.83312881, 153.76516964,\n",
       "       153.2952081 , 152.89446743, 152.95860817, 152.78789042,\n",
       "       152.9590028 , 153.66566812, 154.85698511, 155.80281091,\n",
       "       156.93179911, 157.91012882, 159.21915017, 160.22773275,\n",
       "       161.04049153, 161.07973188, 161.40568245, 161.76573766,\n",
       "       161.83735407, 161.52808899, 161.46745543, 161.0226833 ,\n",
       "       160.97530586, 161.41570374, 161.81884552, 162.42579812,\n",
       "       163.01100734, 163.38056695, 163.14346853, 162.3527088 ,\n",
       "       161.34632725, 160.85109292, 160.36779745, 159.19625071,\n",
       "       158.51879887, 157.51495738, 156.88430495, 156.98630206,\n",
       "       157.44989399, 157.52281657, 157.65683959, 157.82915808,\n",
       "       157.68963807, 157.89549428, 158.12218789, 158.29350036,\n",
       "       158.18438884, 158.02119123, 157.83654482, 157.87882547,\n",
       "       157.49409219, 157.32183484, 157.12691146, 157.55893881,\n",
       "       158.0643445 , 158.9824186 , 159.64755918, 160.45210862,\n",
       "       161.02876944, 161.6902917 , 162.63656771, 163.34139885,\n",
       "       163.55886042, 164.03719249, 164.37100781, 164.25866147,\n",
       "       163.79216264, 163.64202662, 163.59301509, 163.54684376,\n",
       "       163.40929133, 163.82050906, 165.24379987, 166.5318949 ,\n",
       "       167.60750844, 168.31221175, 168.80252157, 168.94794431,\n",
       "       169.00352554, 168.6489951 , 168.014024  , 167.34107425,\n",
       "       166.98777771, 166.82002244, 167.05289668, 167.35058975,\n",
       "       167.84814737, 167.86175366, 167.85973606, 167.66772514,\n",
       "       165.77690725, 164.16876438, 163.21479037, 162.42265778,\n",
       "       162.05739461, 161.55556279, 161.13019963, 160.92138095,\n",
       "       160.53941561, 160.29249044, 160.06058887, 159.90039265,\n",
       "       159.37280449, 158.61811698, 157.93935343, 157.56314631,\n",
       "       157.82300524, 158.38598197, 158.75920993, 159.20782272,\n",
       "       159.8380972 , 160.86244261, 161.99016911, 162.82403208,\n",
       "       163.27612426, 163.69486769, 164.20142391, 164.67235257,\n",
       "       164.69601905, 164.54000254, 164.32591475, 164.13303121,\n",
       "       164.15464675, 164.24485509, 164.12838462, 163.32299591,\n",
       "       162.58091978, 162.30268014, 162.39772404, 162.53936725,\n",
       "       162.48927745, 161.79647964, 161.21499992, 160.67258824,\n",
       "       160.22508152, 159.12518454, 158.48696195, 158.37210889,\n",
       "       158.73256429, 158.93185079, 158.74571481, 158.57340188,\n",
       "       158.8447161 , 159.16511966, 160.19463968, 161.23348623,\n",
       "       161.99555493, 162.37663097, 162.76736146, 162.32745825,\n",
       "       161.82508174, 161.75462141, 161.82749396, 162.27827998,\n",
       "       162.14157794, 161.55804727, 161.14447289, 161.38949163,\n",
       "       162.22879045, 163.1689692 , 163.60635458, 164.51655282,\n",
       "       164.67567632, 164.67685465, 164.95690624, 165.25129778,\n",
       "       165.41303916, 165.60824045, 166.54664616, 167.28345319,\n",
       "       167.20643427, 167.06971556, 166.95921452, 166.43013122,\n",
       "       166.3615551 , 165.88772511, 165.09884402, 164.52042683,\n",
       "       163.75896397, 163.42803332, 163.93184383, 164.30138676,\n",
       "       164.34574614, 164.13560462, 163.59095858, 163.14315728,\n",
       "       163.37806023, 162.90607554, 162.65913925, 162.0953288 ,\n",
       "       162.1565682 , 162.38555175, 162.58478823, 162.44041043,\n",
       "       162.537622  , 162.38761382, 162.24547038, 161.79133837,\n",
       "       161.95685928, 161.70867797, 161.04860083, 160.32273774,\n",
       "       159.68945076, 159.05829809, 159.24123815, 159.31956878,\n",
       "       158.80120711, 158.57046719, 157.90681617, 156.95178056,\n",
       "       155.42539212, 152.4263901 , 150.3813732 , 148.01614727,\n",
       "       145.89547875, 144.50087342, 144.43852239, 145.7354326 ,\n",
       "       147.40112427, 148.48545295, 147.06551369, 149.51055426,\n",
       "       151.60772859, 153.66992565, 155.01932121, 155.56612936,\n",
       "       154.93920642, 155.04417714, 154.91642368, 155.13005014,\n",
       "       154.6312475 , 153.83839236, 152.8083721 , 151.12235993,\n",
       "       150.9906213 , 151.41042078, 151.68778224, 151.52621316,\n",
       "       151.5742798 , 150.89027494, 150.03459634, 147.50601717,\n",
       "       145.06213269, 143.86465174, 144.68488064, 145.15533129,\n",
       "       144.86725933, 145.75395227, 147.87080791, 150.35024215,\n",
       "       152.84294919, 154.52309754, 156.31567005, 157.52124918,\n",
       "       158.27684822, 158.87165076, 159.87471968, 160.62232614,\n",
       "       160.72522923, 160.1743303 , 159.83772481, 160.33056358,\n",
       "       160.09990147, 158.94852516, 157.83393806, 156.47751703,\n",
       "       154.90897579, 153.62383769, 153.40575361, 152.70650838,\n",
       "       152.46166194, 153.25914144, 153.27382601, 152.26671078,\n",
       "       150.66298662, 149.59001319, 147.55822462, 145.63982732,\n",
       "       145.35113841, 140.88946071, 137.27804801, 134.45971277,\n",
       "       132.6201241 , 129.12542642, 125.83981421, 121.3742236 ,\n",
       "       118.51444699, 115.31335439, 113.18492951, 113.19485354,\n",
       "       113.27752228, 114.63430182, 113.92247299, 113.15738484,\n",
       "       112.69657337, 112.22913243, 110.67931651, 110.20375099,\n",
       "       110.88381375, 113.0333192 , 116.18814738, 119.18242778,\n",
       "       122.50622151, 124.50597028, 126.39654917, 127.2146104 ,\n",
       "       127.14226031, 125.52357924, 122.3499521 , 117.88487839,\n",
       "       113.90971154, 112.09857073, 109.90776427, 108.9807402 ,\n",
       "       109.27015723, 109.98259745, 111.76375496, 114.37146651,\n",
       "       115.44835008, 114.82852209, 114.37640074, 113.14506665,\n",
       "       112.97090287, 113.8452123 , 114.76094782, 116.22358736,\n",
       "       117.48072225, 117.35870755, 116.54785243, 115.93077293,\n",
       "       115.34169804, 115.65316136, 115.99259315, 117.50539754,\n",
       "       120.15614425, 122.93014234, 124.51987115, 125.32510423,\n",
       "       124.11430602, 124.5104001 , 125.07621148, 128.52022185,\n",
       "       131.51534709, 133.65566357, 136.47561066, 139.57901092,\n",
       "       141.32209945, 142.23259227, 142.07919363, 142.94438775,\n",
       "       143.29184825, 143.97403005, 144.35576194, 145.02310355,\n",
       "       145.03648751, 145.09308587, 144.11376126, 142.26614666,\n",
       "       140.74527744, 139.63288025, 139.53307303, 138.15086231,\n",
       "       136.74177806, 135.50053801, 134.22925631, 133.44894585,\n",
       "       132.79966259, 131.84219252, 132.13900741, 132.56263087,\n",
       "       133.76580889, 135.57033136, 134.74822938, 134.3138565 ,\n",
       "       133.46972212, 131.96654996, 131.00567832, 129.55493038,\n",
       "       127.35168483, 125.60668986, 123.22209109, 121.71949976,\n",
       "       120.50799011, 120.47660339, 119.85691158, 119.0083029 ,\n",
       "       119.0850717 , 120.70854943, 122.04161245, 122.97591348,\n",
       "       122.05123634, 121.03892426, 119.84268278, 118.90041418,\n",
       "       117.88297195, 115.62797194, 115.58631103, 116.66874161,\n",
       "       117.35269922, 117.99412886, 119.50816714, 120.92627778,\n",
       "       122.4850534 , 122.13242384, 120.3625785 , 116.8178855 ,\n",
       "       113.46323307, 109.01975545, 104.07320376,  99.28167508,\n",
       "        96.18718241,  94.01312187,  92.59405663,  90.57236856,\n",
       "        91.97112026,  94.76339624,  96.6993704 ,  98.22265532,\n",
       "        98.90892998,  98.71534958,  98.34638887,  97.05653331,\n",
       "        96.0250874 ,  95.61840509,  95.16841944,  95.0580768 ,\n",
       "        94.68524555,  95.48891888,  96.04631943,  96.07033677,\n",
       "        95.14393105,  93.55134745,  92.19287269,  91.68878984,\n",
       "        90.90150532,  90.75320487,  91.3085503 ,  91.72753968,\n",
       "        91.30028537,  90.6494236 ,  89.20157561,  88.06198391,\n",
       "        87.54147263,  86.36970495,  85.83674626,  85.02215191,\n",
       "        84.03054384,  83.9420085 ,  83.90759955,  84.34271583,\n",
       "        84.70356863,  84.3894124 ,  84.92015757,  85.79739336,\n",
       "        87.12156338,  89.6630763 ,  91.84606666,  94.37462776,\n",
       "        95.95374055,  96.78182585,  96.78505165,  97.51284271,\n",
       "        98.02852328,  98.14061812,  98.31594147,  99.11693092,\n",
       "       100.65466905, 101.59268013, 102.82011519, 104.37760966,\n",
       "       107.78029956, 108.12328577, 107.6680477 , 107.00169266,\n",
       "       105.91765162, 104.36541514, 102.8302935 , 101.84841771,\n",
       "       101.64247952, 101.98424851, 101.52173208, 100.90194855,\n",
       "        99.71043356,  99.01000097,  98.41361506,  97.34347975,\n",
       "        96.47301515,  96.06640926,  95.26462569,  94.67504153,\n",
       "        94.91119923,  94.9040362 ,  94.93438216,  95.03888322,\n",
       "        94.65871941,  93.96452998,  93.80108226,  94.27907806,\n",
       "        95.18055838,  97.01827536,  98.31059733,  99.03457691,\n",
       "       100.35649798, 100.84502642, 101.03882289, 100.94138205,\n",
       "       100.64445322, 100.23400042, 100.75322707, 101.62227436,\n",
       "       102.83244449, 103.60793189, 104.62186972])"
      ]
     },
     "execution_count": 390,
     "metadata": {},
     "output_type": "execute_result"
    }
   ],
   "source": [
    "test_predictions = model(X_test.to(gpu)).detach().cpu().numpy().flatten()\n",
    "\n",
    "dummies = np.zeros((X_test.shape[0], days+1))\n",
    "dummies[:, 0] = test_predictions\n",
    "dummies = scaler.inverse_transform(dummies)\n",
    "\n",
    "test_predictions = dc(dummies[:, 0])\n",
    "test_predictions"
   ]
  },
  {
   "cell_type": "code",
   "execution_count": 391,
   "metadata": {},
   "outputs": [
    {
     "data": {
      "text/plain": [
       "array([168.39999674, 164.73100188, 157.49200233, 163.43049557,\n",
       "       158.75549155, 155.81100359, 155.14849755, 157.80650317,\n",
       "       153.9050009 , 150.4364931 , 147.74550002, 148.02350066,\n",
       "       156.44949298, 149.99299379, 150.98950412, 154.7564998 ,\n",
       "       158.7025004 , 157.24400444, 157.43649336, 161.06300192,\n",
       "       156.25000082, 159.96000907, 154.99800025, 159.78450022,\n",
       "       159.52749817, 164.33250669, 172.14649963, 172.18150469,\n",
       "       168.18550321, 166.93249662, 163.63549582, 160.36050519,\n",
       "       160.85049265, 159.24699637, 158.82000468, 160.2200014 ,\n",
       "       160.35200682, 164.31649929, 158.13900677, 160.55050963,\n",
       "       151.80749309, 150.2240005 , 152.42050404, 162.05800044,\n",
       "       166.1000065 , 165.56849431, 157.18699477, 151.75100589,\n",
       "       156.86950922, 155.51400528, 156.44050549, 156.55299635,\n",
       "       156.78300259, 155.27299395, 155.85099984, 154.96999843,\n",
       "       154.91949732, 155.90300164, 159.25349382, 159.76699769,\n",
       "       158.40199492, 161.00399689, 160.17649797, 159.33650438,\n",
       "       158.12899659, 157.89999636, 158.86450301, 155.2100093 ,\n",
       "       155.07449114, 155.82099709, 157.84849479, 158.2559997 ,\n",
       "       162.04800138, 161.80399978, 160.08250455, 160.30900362,\n",
       "       160.32600592, 159.263504  , 158.63450788, 164.19800011,\n",
       "       166.1000065 , 164.29249376, 162.84649802, 159.33149652,\n",
       "       160.92550508, 156.91900431, 158.10800356, 159.13499463,\n",
       "       155.71049605, 156.04150451, 158.29449526, 156.37350232,\n",
       "       155.21249378, 156.03799178, 163.16900811, 165.34950426,\n",
       "       164.61149668, 164.69999867, 166.30650189, 161.62899671,\n",
       "       161.88099646, 160.30999853, 167.14399432, 169.00000169,\n",
       "       165.62649332, 166.55000326, 167.60749732, 166.14700043,\n",
       "       165.25000274, 164.32899395, 163.10650702, 163.8855002 ,\n",
       "       163.44749231, 165.43200904, 166.41150039, 162.49499676,\n",
       "       159.03700492, 159.72500607, 157.97649836, 152.85800059,\n",
       "       154.64649899, 157.30700576, 154.72650261, 150.2500014 ,\n",
       "       148.87849562, 150.02299654, 147.59750388, 153.14250423,\n",
       "       152.88200612, 155.67950395, 154.47450287, 154.08400026,\n",
       "       154.59300205, 156.78649865, 151.39950462, 153.7480006 ,\n",
       "       155.54350224, 156.87500065, 154.35350253, 152.31300438,\n",
       "       152.60149876, 153.78650172, 152.76449628, 154.70399777,\n",
       "       158.05000454, 161.33650049, 161.19099438, 163.96950011,\n",
       "       164.9649933 , 168.60999931, 168.96949871, 170.00000252,\n",
       "       166.6499939 , 168.95449733, 169.97200069, 168.60049492,\n",
       "       166.7344996 , 168.10099751, 165.45199605, 167.04400369,\n",
       "       170.44999928, 170.8715051 , 172.9250037 , 173.56550512,\n",
       "       173.37100417, 169.32449047, 165.59350586, 163.5269957 ,\n",
       "       165.31849549, 164.58050458, 159.5245079 , 161.19549646,\n",
       "       157.59700084, 158.07350429, 161.14500647, 163.51950335,\n",
       "       161.61399534, 161.58999537, 162.38400104, 160.15400424,\n",
       "       162.24949446, 162.95249698, 163.25799366, 161.50549522,\n",
       "       161.15350484, 160.9324972 , 161.69949039, 159.35049418,\n",
       "       160.31100455, 159.90049825, 163.20550275, 164.05749632,\n",
       "       167.48250069, 167.34150778, 169.19349662, 169.1564962 ,\n",
       "       170.76249919, 174.46200815, 174.34499854, 172.69799883,\n",
       "       175.27200454, 175.19099489, 172.45399723, 170.07299735,\n",
       "       172.19450514, 172.40699774, 172.00799676, 171.64849736,\n",
       "       175.5489936 , 183.78700463, 184.82899709, 186.570496  ,\n",
       "       185.966995  , 185.92750453, 183.8679976 , 184.08399738,\n",
       "       181.55999811, 178.68150175, 177.47950761, 178.6595027 ,\n",
       "       179.25999676, 181.90150587, 182.83200237, 184.9909997 ,\n",
       "       181.31950368, 181.51600557, 179.99600342, 166.37950228,\n",
       "       166.57400324, 168.31199498, 167.73599001, 168.79949795,\n",
       "       167.2469919 , 167.09350433, 166.03399823, 164.60549946,\n",
       "       165.17500143, 164.69850354, 164.9494917 , 162.09800781,\n",
       "       160.06100573, 159.38749461, 159.99749861, 163.29350451,\n",
       "       165.28899853, 164.95900165, 165.80000125, 167.48150579,\n",
       "       171.07850628, 173.53950423, 173.94999941, 173.15600485,\n",
       "       173.90249413, 175.46449346, 176.27499564, 174.2079908 ,\n",
       "       173.45750524, 172.85850631, 172.50000181, 173.78950304,\n",
       "       174.41200171, 173.12600766, 167.78649667, 167.18150053,\n",
       "       169.00250284, 170.8000054 , 171.27600306, 170.28999203,\n",
       "       165.79800589, 165.05600201, 164.25199728, 164.16299505,\n",
       "       159.48899705, 161.05000148, 163.10049313, 165.12150449,\n",
       "       164.43100219, 162.3150025 , 162.36649851, 164.2140075 ,\n",
       "       164.99299513, 170.4510053 , 172.3370043 , 172.20750559,\n",
       "       170.75300592, 171.75050559, 166.77749724, 166.01849663,\n",
       "       168.80349424, 169.62449572, 172.32850593, 168.62150462,\n",
       "       165.90549999, 165.63749841, 169.19999963, 173.85000877,\n",
       "       175.94949528, 174.4490077 , 178.81149513, 174.10249207,\n",
       "       173.62499927, 176.25750423, 177.28399507, 177.03500227,\n",
       "       177.44999953, 184.80299619, 183.82850714, 178.62849393,\n",
       "       179.0019998 , 179.02049167, 175.22799532, 178.07850653,\n",
       "       175.35349774, 172.18600677, 171.86799875, 169.48950003,\n",
       "       171.36850135, 176.16450571, 176.15800271, 174.17100705,\n",
       "       172.21200767, 169.56750273, 169.09150507, 173.31500052,\n",
       "       168.87100321, 170.01749949, 167.07899763, 170.41700626,\n",
       "       171.03700377, 171.0684961 , 169.66949429, 170.66099675,\n",
       "       169.20100565, 168.64449858, 166.71699707, 170.40449492,\n",
       "       167.52200227, 164.35699578, 163.25399737, 162.55400179,\n",
       "       161.48599177, 165.36199892, 165.20699954, 161.21400501,\n",
       "       162.13799851, 158.91749416, 156.29899568, 151.66749509,\n",
       "       142.64300408, 144.54400445, 139.98599336, 138.87249844,\n",
       "       139.63749627, 143.97799855, 149.57350001, 151.19349835,\n",
       "       150.61250219, 138.84550541, 157.63949825, 157.93550165,\n",
       "       161.41349717, 161.18949925, 159.003495  , 153.29350176,\n",
       "       155.1670061 , 156.51049894, 158.10049453, 154.6524962 ,\n",
       "       152.60149876, 150.19749381, 144.82699629, 151.35800212,\n",
       "       153.78849709, 153.56300403, 151.14199678, 152.05250627,\n",
       "       147.89849848, 145.64100565, 137.45300383, 136.01449488,\n",
       "       139.27900567, 146.81750468, 145.52450739, 141.8529947 ,\n",
       "       147.36650272, 153.10400311, 157.23899657, 161.25050521,\n",
       "       161.49149987, 164.8890082 , 163.4080074 , 163.64950785,\n",
       "       164.77349929, 168.99049174, 169.31500275, 166.30099379,\n",
       "       162.99749555, 163.55999984, 168.34649425, 164.05499516,\n",
       "       158.75599734, 157.78449856, 154.4604964 , 151.1219931 ,\n",
       "       150.78750525, 155.54100108, 151.70649644, 152.78500575,\n",
       "       158.11549591, 153.99799942, 148.29600432, 144.35000372,\n",
       "       146.07400567, 139.39100462, 138.16700588, 144.59649537,\n",
       "       124.2815027 , 124.50000086, 124.25350088, 125.92849685,\n",
       "       116.40699847, 114.77249899, 108.78900163, 108.85900063,\n",
       "       105.37200234, 106.93049589, 113.05500005, 110.81050072,\n",
       "       115.36850069, 107.11250358, 107.31900035, 107.59100239,\n",
       "       107.55699918, 104.09999809, 106.77500184, 111.07749906,\n",
       "       115.14649953, 120.20950223, 121.68399725, 125.51100121,\n",
       "       122.34999935, 124.79000149, 122.99999961, 121.18000054,\n",
       "       116.15000198, 109.65000214, 103.66999806, 102.30999829,\n",
       "       107.6699986 , 103.66000386, 106.22000101, 108.67999989,\n",
       "       108.94999683, 112.44000207, 116.45999935, 113.22000127,\n",
       "       107.40000166, 108.91999825, 106.20999917, 109.55999806,\n",
       "       113.50000006, 114.33000152, 116.3300018 , 115.54000075,\n",
       "       111.74999999, 109.22000073, 110.40000137, 110.62999651,\n",
       "       113.55000232, 113.76000211, 118.20999802, 122.76999614,\n",
       "       124.62999702, 122.41999835, 121.13999873, 114.80999825,\n",
       "       120.97000076, 122.28000035, 134.94999758, 135.38999806,\n",
       "       134.16000488, 139.5200031 , 142.57000925, 140.80000272,\n",
       "       139.41000507, 137.83000298, 142.69000357, 140.64000103,\n",
       "       143.55000084, 143.17999102, 144.7799968 , 142.10000324,\n",
       "       142.30000119, 138.22999608, 133.22000121, 133.61999431,\n",
       "       133.80000247, 137.27999891, 130.7499991 , 129.78999174,\n",
       "       128.72999653, 126.76999668, 127.82000117, 127.51000241,\n",
       "       126.11000014, 129.47999576, 129.82000839, 133.27000486,\n",
       "       136.44999605, 126.82000034, 128.55000227, 126.27999811,\n",
       "       123.52999999, 124.66000532, 122.19000322, 118.54000046,\n",
       "       117.30999894, 113.77999884, 115.15000254, 114.41000376,\n",
       "       118.01000286, 114.80000336, 112.99999964, 115.8799967 ,\n",
       "       121.08999508, 120.94999707, 120.30000237, 114.55999805,\n",
       "       113.66999803, 112.2099986 , 112.90000206, 112.5299992 ,\n",
       "       106.90000263, 113.79000069, 116.36000038, 115.0700003 ,\n",
       "       115.25000012, 119.31999967, 119.82000008, 120.59999928,\n",
       "       115.66000341, 110.95999895, 103.41000365, 102.4400021 ,\n",
       "        96.79000116,  92.12000301,  89.30000302,  90.98000304,\n",
       "        90.52999899,  89.98000291,  86.13999884,  96.62999704,\n",
       "       100.79000101,  98.48999791,  98.94000197,  97.1200029 ,\n",
       "        94.84999805,  94.13999897,  92.45999904,  93.199997  ,\n",
       "        94.12999696,  93.410004  ,  93.94999701,  92.41999801,\n",
       "        96.54000095,  95.50000004,  94.12999696,  91.01000197,\n",
       "        88.24999993,  88.45999902,  90.34999813,  89.08999594,\n",
       "        90.55000302,  92.48999797,  91.58000208,  88.44999683,\n",
       "        87.86000102,  84.91999777,  85.19000167,  86.76999681,\n",
       "        83.79000078,  85.25000022,  83.04000085,  81.81999979,\n",
       "        84.17999969,  83.99999987,  85.82000033,  85.13999871,\n",
       "        83.12000309,  86.08000168,  87.3600013 ,  89.87000314,\n",
       "        95.08999606,  95.26999692,  98.12000304,  96.05000307,\n",
       "        95.45999893,  93.68      ,  97.25000011,  97.51999705,\n",
       "        96.32000002,  97.18000006,  99.22000076, 102.2399979 ,\n",
       "       100.55000334, 103.12999722, 105.15000257, 112.9100039 ,\n",
       "       103.38999927, 102.18000005, 102.11000105, 100.05000292,\n",
       "        98.23999805,  97.61000113,  99.54000066,  99.69999679,\n",
       "       101.16000387,  98.15000197,  97.19999715,  94.58000197,\n",
       "        95.79000102,  95.81999995,  93.5       ,  93.760002  ,\n",
       "        94.23000296,  92.16999798,  92.12999703,  94.90000205,\n",
       "        93.74999998,  93.55000299,  93.919998  ,  92.25000004,\n",
       "        90.73000301,  92.43000003,  94.87999697,  96.19999701,\n",
       "       100.04000108,  98.94999687,  97.70999906, 100.61000119,\n",
       "        98.69999701,  98.70999885,  98.12999689,  98.04000115,\n",
       "        97.23999792, 100.25000017, 102.00000023, 103.290001  ,\n",
       "       102.41000421, 103.94999685, 101.09999768])"
      ]
     },
     "execution_count": 391,
     "metadata": {},
     "output_type": "execute_result"
    }
   ],
   "source": [
    "dummies = np.zeros((X_test.shape[0], days+1))\n",
    "dummies[:, 0] = y_test.flatten()\n",
    "dummies = scaler.inverse_transform(dummies)\n",
    "\n",
    "new_y_test = dc(dummies[:, 0])\n",
    "new_y_test"
   ]
  },
  {
   "cell_type": "code",
   "execution_count": 392,
   "metadata": {},
   "outputs": [
    {
     "data": {
      "image/png": "[encoded data removed]",
      "text/plain": [
       "<Figure size 640x480 with 1 Axes>"
      ]
     },
     "metadata": {},
     "output_type": "display_data"
    }
   ],
   "source": [
    "plt.plot(new_y_test, label='Actual Close')\n",
    "plt.plot(test_predictions, label='Predicted Close')\n",
    "plt.xlabel('Day')\n",
    "plt.ylabel('Close')\n",
    "plt.legend()\n",
    "plt.show()"
   ]
  }
 ],
 "metadata": {
  "kernelspec": {
   "display_name": "DL",
   "language": "python",
   "name": "python3"
  },
  "language_info": {
   "codemirror_mode": {
    "name": "ipython",
    "version": 3
   },
   "file_extension": ".py",
   "mimetype": "text/x-python",
   "name": "python",
   "nbconvert_exporter": "python",
   "pygments_lexer": "ipython3",
   "version": "3.11.7"
  }
 },
 "nbformat": 4,
 "nbformat_minor": 2
}
